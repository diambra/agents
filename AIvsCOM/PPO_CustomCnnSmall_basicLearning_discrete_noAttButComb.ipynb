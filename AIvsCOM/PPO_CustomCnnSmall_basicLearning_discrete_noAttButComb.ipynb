{
 "cells": [
  {
   "cell_type": "code",
   "execution_count": null,
   "metadata": {},
   "outputs": [],
   "source": [
    "gameId = \"doapp\"\n",
    "#gameId = \"sfiii3n\"\n",
    "#gameId = \"tektagt\""
   ]
  },
  {
   "cell_type": "code",
   "execution_count": null,
   "metadata": {},
   "outputs": [],
   "source": [
    "import sys, os\n",
    "import time\n",
    "timeDepSeed = int((time.time()-int(time.time()-0.5))*1000)\n",
    "\n",
    "sys.path.append(os.path.join(os.path.abspath(''), '../'))     \n",
    "\n",
    "tensorBoardFolder = \"./{}_ppo2_TB_CustCnnSmall_bL_d_noComb/\".format(gameId)\n",
    "modelFolder = \"./{}_ppo2_Model_CustCnnSmall_bL_d_noComb/\".format(gameId)\n",
    "\n",
    "os.makedirs(modelFolder, exist_ok=True)"
   ]
  },
  {
   "cell_type": "code",
   "execution_count": null,
   "metadata": {},
   "outputs": [],
   "source": [
    "from makeStableBaselinesEnv import makeStableBaselinesEnv\n",
    "\n",
    "import tensorflow as tf\n",
    "\n",
    "from customPolicies.utils import linear_schedule, AutoSave\n",
    "from customPolicies.customCnnPolicy import *\n",
    "\n",
    "from stable_baselines import PPO2"
   ]
  },
  {
   "cell_type": "code",
   "execution_count": null,
   "metadata": {},
   "outputs": [],
   "source": [
    "# Diambra environment kwargs\n",
    "diambraKwargs = {}\n",
    "diambraKwargs[\"romsPath\"]   = \"../../roms/mame/\"\n",
    "diambraKwargs[\"binaryPath\"] = \"../../customMAME/\"\n",
    "diambraKwargs[\"frameRatio\"] = 6\n",
    "diambraKwargs[\"render\"]     = False\n",
    "\n",
    "diambraKwargs[\"player\"] = \"Random\" # P1 / P2\n",
    "\n",
    "# Game dependent kwawrgs\n",
    "if gameId == \"doapp\":\n",
    "    diambraKwargs[\"difficulty\"]  = 3 \n",
    "    diambraKwargs[\"characters\"] =[\"Kasumi\", \"Kasumi\"]\n",
    "elif gameId == \"sfiii3n\":\n",
    "    diambraKwargs[\"difficulty\"]  = 6\n",
    "    diambraKwargs[\"characters\"] =[\"Ryu\", \"Ryu\"]\n",
    "elif gameId == \"tektagt\":\n",
    "    diambraKwargs[\"difficulty\"]  = 6\n",
    "    diambraKwargs[\"characters\"] =[[\"Jin\", \"Yoshimitsu\"], [\"Jin\", \"Yoshimitsu\"]]\n",
    "else:\n",
    "    raise Exception(\"Game not implemented: {}\".format(gameId))\n",
    "    \n",
    "diambraKwargs[\"charOutfits\"] =[2, 2]\n",
    "\n",
    "# DIAMBRA gym kwargs\n",
    "diambraGymKwargs = {}\n",
    "diambraGymKwargs[\"showFinal\"] = False                                     \n",
    "diambraGymKwargs[\"continueGame\"] = 0.0 # If < 0.0 means number of continues\n",
    "diambraGymKwargs[\"actionSpace\"] = \"discrete\"\n",
    "diambraGymKwargs[\"attackButCombinations\"] = False\n",
    "diambraGymKwargs[\"actBufLen\"] = 12\n",
    "\n",
    "# Gym Wrappers kwargs\n",
    "wrapperKwargs = {}\n",
    "wrapperKwargs[\"noOpMax\"] = 0\n",
    "wrapperKwargs[\"hwcObsResize\"] = [128, 128, 1]\n",
    "wrapperKwargs[\"normalizeRewards\"] = True\n",
    "wrapperKwargs[\"clipRewards\"] = False\n",
    "wrapperKwargs[\"frameStack\"] = 4\n",
    "wrapperKwargs[\"dilation\"] = 1\n",
    "wrapperKwargs[\"scale\"] = True\n",
    "wrapperKwargs[\"scaleMod\"] = 0\n",
    "\n",
    "# Additional observations\n",
    "keyToAdd = []\n",
    "keyToAdd.append(\"actionsBuf\") # env.actBufLen*(env.n_actions[0]+env.n_actions[1])\n",
    "\n",
    "if gameId != \"tektagt\":                                                         \n",
    "    keyToAdd.append(\"ownHealth\")   # 1                                            \n",
    "    keyToAdd.append(\"oppHealth\")   # 1                                                \n",
    "else:                                                                           \n",
    "    keyToAdd.append(\"ownHealth1\") # 1                                             \n",
    "    keyToAdd.append(\"ownHealth2\") # 1                                             \n",
    "    keyToAdd.append(\"oppHealth1\") # 1                                              \n",
    "    keyToAdd.append(\"oppHealth2\") # 1  \n",
    "    keyToAdd.append(\"ownActiveChar\") # 1\n",
    "    keyToAdd.append(\"oppActiveChar\") # 1\n",
    "    \n",
    "keyToAdd.append(\"ownPosition\")     # 1\n",
    "keyToAdd.append(\"oppPosition\")     # 1\n",
    "keyToAdd.append(\"stage\")           # 1\n",
    "keyToAdd.append(\"ownChar\")       # len(env.charNames)\n",
    "keyToAdd.append(\"oppChar\")       # len(env.charNames)\n",
    "\n",
    "numEnv=8\n",
    "\n",
    "envId = gameId + \"_Train\"\n",
    "env = makeStableBaselinesEnv(envId, numEnv, timeDepSeed, diambraKwargs, diambraGymKwargs,\n",
    "                             wrapperKwargs, keyToAdd=keyToAdd, useSubprocess=True)"
   ]
  },
  {
   "cell_type": "code",
   "execution_count": null,
   "metadata": {},
   "outputs": [],
   "source": [
    "print(\"Obs_space = \", env.observation_space)\n",
    "print(\"Obs_space type = \", env.observation_space.dtype)\n",
    "print(\"Obs_space high = \", env.observation_space.high)\n",
    "print(\"Obs_space low = \", env.observation_space.low)"
   ]
  },
  {
   "cell_type": "code",
   "execution_count": null,
   "metadata": {},
   "outputs": [],
   "source": [
    "print(\"Act_space = \", env.action_space)\n",
    "print(\"Act_space type = \", env.action_space.dtype)\n",
    "if diambraGymKwargs[\"actionSpace\"] == \"multiDiscrete\":\n",
    "    print(\"Act_space n = \", env.action_space.nvec)\n",
    "else:\n",
    "    print(\"Act_space n = \", env.action_space.n)"
   ]
  },
  {
   "cell_type": "code",
   "execution_count": null,
   "metadata": {},
   "outputs": [],
   "source": [
    "# Policy param\n",
    "nActions = env.get_attr(\"nActions\")[0]\n",
    "actBufLen = env.get_attr(\"actBufLen\")[0]\n",
    "\n",
    "policyKwargs={}\n",
    "policyKwargs[\"n_add_info\"] = actBufLen*(nActions[0]+nActions[1]) + len(keyToAdd)-3 # No Char Info\n",
    "policyKwargs[\"layers\"] = [64, 64]\n",
    "\n",
    "policyKwargs[\"cnn_extractor\"] = local_nature_cnn_small\n",
    "\n",
    "print(\"n_add_info =\", policyKwargs[\"n_add_info\"])"
   ]
  },
  {
   "cell_type": "code",
   "execution_count": null,
   "metadata": {},
   "outputs": [],
   "source": [
    "# PPO param\n",
    "setGamma = 0.94\n",
    "#setLearningRate = linear_schedule(2.5e-4, 2.5e-6)\n",
    "setLearningRate = linear_schedule(5.0e-5, 2.5e-6)\n",
    "#setClipRange = linear_schedule(0.15, 0.025)\n",
    "setClipRange = linear_schedule(0.075, 0.025)\n",
    "setClipRangeVf = setClipRange\n",
    "\n",
    "# Initialize the model\n",
    "model = PPO2(CustCnnPolicy, env, verbose=1, \n",
    "             gamma = setGamma, nminibatches=4, noptepochs=4, n_steps=128,\n",
    "             learning_rate=setLearningRate, cliprange=setClipRange, cliprange_vf=setClipRangeVf, \n",
    "             tensorboard_log=tensorBoardFolder, policy_kwargs=policyKwargs)\n",
    "\n",
    "#OR\n",
    "\n",
    "# Load the trained agent\n",
    "#model = PPO2.load(os.path.join(modelFolder, \"9M\"), env=env, tensorboard_log=tensorBoardFolder, \n",
    "#                  policy_kwargs=policyKwargs, gamma = setGamma, learning_rate=setLearningRate, \n",
    "#                  cliprange=setClipRange, cliprange_vf=setClipRangeVf)"
   ]
  },
  {
   "cell_type": "code",
   "execution_count": null,
   "metadata": {},
   "outputs": [],
   "source": [
    "print(\"Model discount factor = \", model.gamma)"
   ]
  },
  {
   "cell_type": "code",
   "execution_count": null,
   "metadata": {},
   "outputs": [],
   "source": [
    "# Create the callback: autosave every USER DEF steps\n",
    "autoSaveCallback = AutoSave(check_freq=1000000, numEnv=numEnv, save_path=os.path.join(modelFolder,\"9M_\"))\n",
    "\n",
    "# Train the agent\n",
    "time_steps = 10000000\n",
    "model.learn(total_timesteps=time_steps, callback=autoSaveCallback)"
   ]
  },
  {
   "cell_type": "code",
   "execution_count": null,
   "metadata": {},
   "outputs": [],
   "source": [
    "# Save the agent\n",
    "model.save(os.path.join(modelFolder, \"19M\"))"
   ]
  },
  {
   "cell_type": "markdown",
   "metadata": {},
   "source": [
    "## Evaluation"
   ]
  },
  {
   "cell_type": "code",
   "execution_count": null,
   "metadata": {},
   "outputs": [],
   "source": [
    "# Initialize a new evaluation environment\n",
    "diambraKwargs[\"render\"] = True\n",
    "\n",
    "envId = gameId + \"_Test\"\n",
    "env = make_diambra_env(diambraMame, env_prefix=envId, num_env=1, seed=timeDepSeed, \n",
    "                       diambra_kwargs=diambraKwargs, diambra_gym_kwargs=diambraGymKwargs,\n",
    "                       wrapper_kwargs=wrapperKwargs, key_to_add=keyToAdd)"
   ]
  },
  {
   "cell_type": "code",
   "execution_count": null,
   "metadata": {},
   "outputs": [],
   "source": [
    "observation = env.reset()\n",
    "\n",
    "cumulativeEpRew = 0.0\n",
    "cumulativeEpRewAll = []\n",
    "\n",
    "maxNumEp = 10\n",
    "currNumEp = 0\n",
    "\n",
    "while currNumEp < maxNumEp:\n",
    "\n",
    "    action = model.predict(observation, deterministic=True)\n",
    "    #action_prob = model.action_probability(observation, states)\n",
    "    #print(\"Action probabilities = \", action_prob)\n",
    "    #print(\"Max action = \", np.argmax(action_prob))\n",
    "    #print(\"Action = \", action)\n",
    "    \n",
    "    observation, reward, done, info = env.step(action[0])\n",
    "    \n",
    "    cumulativeEpRew += reward\n",
    "    \n",
    "    if np.any(done):\n",
    "        currNumEp += 1\n",
    "        print(\"Ep. # = \", currNumEp)\n",
    "        print(\"Ep. Cumulative Rew # = \", cumulativeEpRew)\n",
    "        cumulativeEpRewAll.append(cumulativeEpRew)\n",
    "        cumulativeTotRew += cumulativeEpRew\n",
    "        cumulativeEpRew = 0.0\n",
    "    \n",
    "env.close()"
   ]
  },
  {
   "cell_type": "code",
   "execution_count": null,
   "metadata": {},
   "outputs": [],
   "source": [
    "print(\"Cumulative reward = \", cumulativeEpRewAll)    \n",
    "print(\"Mean cumulative reward = \", np.mean(cumulativeEpRewAll))    \n",
    "print(\"Std cumulative reward = \", np.std(cumulativeEpRewAll))  "
   ]
  }
 ],
 "metadata": {
  "kernelspec": {
   "display_name": "Python 3",
   "language": "python",
   "name": "python3"
  },
  "language_info": {
   "codemirror_mode": {
    "name": "ipython",
    "version": 3
   },
   "file_extension": ".py",
   "mimetype": "text/x-python",
   "name": "python",
   "nbconvert_exporter": "python",
   "pygments_lexer": "ipython3",
   "version": "3.6.12"
  }
 },
 "nbformat": 4,
 "nbformat_minor": 4
}
