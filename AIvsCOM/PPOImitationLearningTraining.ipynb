{
 "cells": [
  {
   "cell_type": "code",
   "execution_count": null,
   "metadata": {},
   "outputs": [],
   "source": [
    "gameId = \"doapp\""
   ]
  },
  {
   "cell_type": "code",
   "execution_count": null,
   "metadata": {},
   "outputs": [],
   "source": [
    "from collections import namedtuple\n",
    "# Algorithm options\n",
    "algoOpt = namedtuple('algoOptions', 'dataFolder totalCpus smallCnn')\n",
    "\n",
    "algoOpt.totalCpus    = 2\n",
    "algoOpt.smallCnn     = True\n",
    "algoOpt.dataFolder   = \"../../test/data/Discrete/Normal\"\n",
    "#algoOpt.dataFolder   = \"../../test/data/Discrete/HC\"\n",
    "#algoOpt.dataFolder   = \"../../test/data/MultiDiscrete/Normal\"\n",
    "#algoOpt.dataFolder   = \"../../test/data/MultiDiscrete/HC\""
   ]
  },
  {
   "cell_type": "code",
   "execution_count": null,
   "metadata": {},
   "outputs": [],
   "source": [
    "import sys, os, time, cv2\n",
    "from os import listdir\n",
    "import numpy as np\n",
    "\n",
    "timeDepSeed = int((time.time()-int(time.time()-0.5))*1000)\n",
    "\n",
    "sys.path.append(os.path.join(os.path.abspath(''), '../.')) \n",
    "\n",
    "tensorBoardFolder = \"./{}_ppo2_imitationLearning_TB_{}/\".format(gameId)\n",
    "modelFolder = \"./{}_ppo2_imitationLearning_Model_{}\".format(gameId)\n",
    "\n",
    "os.makedirs(modelFolder, exist_ok=True)"
   ]
  },
  {
   "cell_type": "code",
   "execution_count": null,
   "metadata": {},
   "outputs": [],
   "source": [
    " # Show files in folder\n",
    "base_path = os.path.abspath('')\n",
    "trajRecFolder = os.path.join(base_path, algoOpt.dataFolder)\n",
    "trajectoriesFiles = [os.path.join(trajRecFolder, f) for f in listdir(trajRecFolder) if os.path.isfile(os.path.join(trajRecFolder, f))]\n",
    "print(trajectoriesFiles)"
   ]
  },
  {
   "cell_type": "code",
   "execution_count": null,
   "metadata": {},
   "outputs": [],
   "source": [
    "from makeStableBaselinesILEnv import makeStableBaselinesILEnv\n",
    "\n",
    "import tensorflow as tf\n",
    "\n",
    "from sbUtils import linear_schedule, AutoSave\n",
    "from customPolicies.customCnnPolicy import CustCnnPolicy, local_nature_cnn_small\n",
    "\n",
    "from stable_baselines import PPO2"
   ]
  },
  {
   "cell_type": "code",
   "execution_count": null,
   "metadata": {},
   "outputs": [],
   "source": [
    "# Diambra Imitation Learning Environment kwargs\n",
    "diambraILKwargs = {}\n",
    "diambraILKwargs[\"trajFilesList\"] = trajectoriesFiles\n",
    "diambraILKwargs[\"totalCpus\"] = algoOpt.totalCpus\n",
    "\n",
    "hardCore = True if trajRecFolder[-2:] == \"HC\" else False\n",
    "\n",
    "# Additional obs key list\n",
    "keyToAdd = []\n",
    "keyToAdd.append(\"actionsBuf\") # env.actBufLen*(env.n_actions[0]+env.n_actions[1])\n",
    "\n",
    "if gameId != \"tektagt\":                                                         \n",
    "    keyToAdd.append(\"ownHealth\")   # 1                                            \n",
    "    keyToAdd.append(\"oppHealth\")   # 1                                                \n",
    "else:                                                                           \n",
    "    keyToAdd.append(\"ownHealth1\")    # 1                                             \n",
    "    keyToAdd.append(\"ownHealth2\")    # 1                                             \n",
    "    keyToAdd.append(\"oppHealth1\")    # 1                                              \n",
    "    keyToAdd.append(\"oppHealth2\")    # 1  \n",
    "    keyToAdd.append(\"ownActiveChar\") # 1\n",
    "    keyToAdd.append(\"oppActiveChar\") # 1\n",
    "    \n",
    "keyToAdd.append(\"ownPosition\")     # 1\n",
    "keyToAdd.append(\"oppPosition\")     # 1\n",
    "keyToAdd.append(\"stage\")           # 1\n",
    "keyToAdd.append(\"ownChar\")       # len(env.charNames)\n",
    "keyToAdd.append(\"oppChar\")       # len(env.charNames)"
   ]
  },
  {
   "cell_type": "code",
   "execution_count": null,
   "metadata": {},
   "outputs": [],
   "source": [
    "envId = \"ILTrain\"\n",
    "env = makeStableBaselinesILEnv(envId, diambraILKwargs, timeDepSeed, \n",
    "                               hardCore=hardCore, keyToAdd=keyToAdd, \n",
    "                               useSubprocess=True)"
   ]
  },
  {
   "cell_type": "code",
   "execution_count": null,
   "metadata": {},
   "outputs": [],
   "source": [
    "print(\"Obs_space = \", env.observation_space)\n",
    "print(\"Obs_space type = \", env.observation_space.dtype)\n",
    "print(\"Obs_space high = \", env.observation_space.high)\n",
    "print(\"Obs_space low = \", env.observation_space.low)"
   ]
  },
  {
   "cell_type": "code",
   "execution_count": null,
   "metadata": {},
   "outputs": [],
   "source": [
    "print(\"Act_space = \", env.action_space)\n",
    "print(\"Act_space type = \", env.action_space.dtype)\n",
    "if diambraGymKwargs[\"actionSpace\"] == \"multiDiscrete\":\n",
    "    print(\"Act_space n = \", env.action_space.nvec)\n",
    "else:\n",
    "    print(\"Act_space n = \", env.action_space.n)"
   ]
  },
  {
   "cell_type": "code",
   "execution_count": null,
   "metadata": {},
   "outputs": [],
   "source": [
    "nActions = env.get_attr(\"nActions\")[0]\n",
    "actBufLen = env.get_attr(\"actBufLen\")[0]\n",
    "nChars = env.get_attr(\"nChars\")[0]\n",
    "\n",
    "policyKwargs={}\n",
    "policyKwargs[\"n_add_info\"] = actBufLen*(nActions[0]+nActions[1]) + len(keyToAdd)-3 + 2*nChar\n",
    "policyKwargs[\"layers\"] = [64, 64]\n",
    "\n",
    "if algoOpt.smallCnn:\n",
    "    policyKwargs[\"cnn_extractor\"] = local_nature_cnn_small\n",
    "\n",
    "print(\"nActions =\", nActions)\n",
    "print(\"nChar =\", nChar)\n",
    "print(\"n_add_info =\", policyKwargs[\"n_add_info\"])"
   ]
  },
  {
   "cell_type": "code",
   "execution_count": null,
   "metadata": {},
   "outputs": [],
   "source": [
    "# PPO param\n",
    "setGamma = 0.94\n",
    "setLearningRate = linear_schedule(2.5e-4, 2.5e-6)\n",
    "setClipRange = linear_schedule(0.15, 0.025)\n",
    "setClipRangeVf = setClipRange\n",
    "\n",
    "# Initialize the model\n",
    "model = PPO2(CustCnnPolicy, env, verbose=1, \n",
    "             gamma = setGamma, nminibatches=4, noptepochs=4, n_steps=128,\n",
    "             learning_rate=setLearningRate, cliprange=setClipRange, cliprange_vf=setClipRangeVf, \n",
    "             tensorboard_log=tensorBoardFolder, policy_kwargs=policyKwargs)\n",
    "\n",
    "#OR\n",
    "\n",
    "# Load the trained agent\n",
    "#model = PPO2.load(os.path.join(modelFolder, str(\"_\".join(keyToAdd))+\"_0M\"), env=env, tensorboard_log=tensorBoardFolder, \n",
    "#                  policy_kwargs=policyKwargs, gamma = setGamma, learning_rate=setLearningRate, \n",
    "#                  cliprange=setClipRange, cliprange_vf=setClipRangeVf)"
   ]
  },
  {
   "cell_type": "code",
   "execution_count": null,
   "metadata": {},
   "outputs": [],
   "source": [
    "print(\"Model discount factor = \", model.gamma)"
   ]
  },
  {
   "cell_type": "code",
   "execution_count": null,
   "metadata": {},
   "outputs": [],
   "source": [
    "# Create the callback: autosave every USER DEF steps\n",
    "autoSaveCallback = AutoSave(check_freq=1000000, numEnv=numEnv, \n",
    "                            save_path=os.path.join(modelFolder, str(\"_\".join(keyToAdd))+\"_0M\"))\n",
    "\n",
    "# Train the agent\n",
    "timeSteps = 10000000\n",
    "model.learn(total_timesteps=timeSteps, callback=autoSaveCallback)"
   ]
  },
  {
   "cell_type": "code",
   "execution_count": null,
   "metadata": {},
   "outputs": [],
   "source": [
    "# Save the agent\n",
    "model.save(os.path.join(modelFolder, str(\"_\".join(keyToAdd))+\"_0M\"))"
   ]
  }
 ],
 "metadata": {
  "kernelspec": {
   "display_name": "Python 3",
   "language": "python",
   "name": "python3"
  },
  "language_info": {
   "codemirror_mode": {
    "name": "ipython",
    "version": 3
   },
   "file_extension": ".py",
   "mimetype": "text/x-python",
   "name": "python",
   "nbconvert_exporter": "python",
   "pygments_lexer": "ipython3",
   "version": "3.6.12"
  }
 },
 "nbformat": 4,
 "nbformat_minor": 4
}
