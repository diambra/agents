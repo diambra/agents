{
 "cells": [
  {
   "cell_type": "code",
   "execution_count": null,
   "metadata": {},
   "outputs": [],
   "source": [
    "#gameId = \"doapp\"\n",
    "gameId = \"sfiii3n\"\n",
    "#gameId = \"umk3\"\n",
    "#gameId = \"tektagt\""
   ]
  },
  {
   "cell_type": "code",
   "execution_count": null,
   "metadata": {},
   "outputs": [],
   "source": [
    "import sys, os\n",
    "from os.path import expanduser \n",
    "import time\n",
    "import cv2\n",
    "import numpy as np\n",
    "\n",
    "homeDir = expanduser(\"~\") \n",
    "\n",
    "timeDepSeed = int((time.time()-int(time.time()-0.5))*1000)\n",
    "\n",
    "sys.path.append(os.path.join(os.path.abspath(''), '../.'))  \n",
    "sys.path.append(os.path.join(os.path.abspath(''), '../../gym/'))\n",
    "                                                                                                                                 \n",
    "from utils import discreteToMultiDiscreteAction\n",
    "from randomTestSBWrappers import showObs\n",
    "from makeStableBaselinesEnv import makeStableBaselinesEnv"
   ]
  },
  {
   "cell_type": "code",
   "execution_count": null,
   "metadata": {},
   "outputs": [],
   "source": [
    "# Common settings\n",
    "diambraKwargs = {}\n",
    "diambraKwargs[\"romsPath\"] = \"../../roms/mame/\"\n",
    "diambraKwargs[\"binaryPath\"] = \"../../customMAME/\"\n",
    "diambraKwargs[\"frameRatio\"] = 6\n",
    "diambraKwargs[\"throttle\"] = False\n",
    "diambraKwargs[\"sound\"] = diambraKwargs[\"throttle\"]\n",
    "\n",
    "diambraKwargs[\"player\"] = \"Random\" # 1P\n",
    "#diambraKwargs[\"player\"] = \"P1P2\" # 2P"
   ]
  },
  {
   "cell_type": "code",
   "execution_count": null,
   "metadata": {},
   "outputs": [],
   "source": [
    "if gameId != \"tektagt\":\n",
    "    diambraKwargs[\"characters\"] = [\"Random\", \"Random\"]\n",
    "else:\n",
    "    diambraKwargs[\"characters\"] = [[\"Random\", \"Random\"], [\"Random\", \"Random\"]]\n",
    "diambraKwargs[\"charOutfits\"] = [2, 2]"
   ]
  },
  {
   "cell_type": "code",
   "execution_count": null,
   "metadata": {},
   "outputs": [],
   "source": [
    "# DIAMBRA gym kwargs\n",
    "diambraGymKwargs = {}\n",
    "diambraGymKwargs[\"actionSpace\"] = [\"multiDiscrete\", \"multiDiscrete\"]\n",
    "diambraGymKwargs[\"attackButCombinations\"] = [False, False]\n",
    "diambraGymKwargs[\"actBufLen\"] = 12\n",
    "if diambraKwargs[\"player\"] != \"P1P2\":\n",
    "    diambraGymKwargs[\"showFinal\"] = False\n",
    "    diambraGymKwargs[\"continueGame\"] = -1.0\n",
    "    diambraGymKwargs[\"actionSpace\"] = diambraGymKwargs[\"actionSpace\"][0]\n",
    "    diambraGymKwargs[\"attackButCombinations\"] = diambraGymKwargs[\"attackButCombinations\"][0]\n",
    "    \n",
    "idxList = [0, 1]\n",
    "if diambraKwargs[\"player\"] != \"P1P2\":\n",
    "    idxList = [0]"
   ]
  },
  {
   "cell_type": "code",
   "execution_count": null,
   "metadata": {},
   "outputs": [],
   "source": [
    "# Recording kwargs\n",
    "trajRecKwargs = {}                                                          \n",
    "trajRecKwargs[\"userName\"] = \"Alex\"\n",
    "trajRecKwargs[\"filePath\"] = os.path.join( homeDir, \"DIAMBRA/trajRecordings\", gameId)\n",
    "trajRecKwargs[\"ignoreP2\"] = 0                                    \n",
    "trajRecKwargs[\"commitHash\"] = \"0000000\""
   ]
  },
  {
   "cell_type": "code",
   "execution_count": null,
   "metadata": {},
   "outputs": [],
   "source": [
    "trajRecKwargs = None"
   ]
  },
  {
   "cell_type": "code",
   "execution_count": null,
   "metadata": {
    "scrolled": true
   },
   "outputs": [],
   "source": [
    "# Env wrappers kwargs\n",
    "wrapperKwargs = {}\n",
    "wrapperKwargs[\"noOpMax\"] = 0\n",
    "wrapperKwargs[\"hwcObsResize\"] = [128, 128, 1]\n",
    "wrapperKwargs[\"normalizeRewards\"] = True\n",
    "wrapperKwargs[\"clipRewards\"] = False\n",
    "wrapperKwargs[\"frameStack\"] = 4\n",
    "wrapperKwargs[\"dilation\"] = 1\n",
    "wrapperKwargs[\"scale\"] = True\n",
    "wrapperKwargs[\"scaleMod\"] = 0"
   ]
  },
  {
   "cell_type": "code",
   "execution_count": null,
   "metadata": {},
   "outputs": [],
   "source": [
    "# Additional obs key list\n",
    "keyToAdd = []\n",
    "keyToAdd.append(\"actionsBuf\") # env.actBufLen*(env.n_actions[0]+env.n_actions[1])\n",
    "\n",
    "if gameId != \"tektagt\":                                                         \n",
    "    keyToAdd.append(\"ownHealth\")   # 1                                            \n",
    "    keyToAdd.append(\"oppHealth\")   # 1                                                \n",
    "    if gameId == \"sfiii3n\":\n",
    "        keyToAdd.append(\"ownSuperBarVal\")   # 1                                                \n",
    "        keyToAdd.append(\"ownSuperCount\")    # 1                                                \n",
    "        keyToAdd.append(\"ownSuperMaxCount\") # 1                                                \n",
    "        keyToAdd.append(\"ownSuperSelected\")  # 1\n",
    "        keyToAdd.append(\"ownStunBar\")   # 1\n",
    "        keyToAdd.append(\"ownStunned\")   # 1\n",
    "        keyToAdd.append(\"oppSuperBarVal\")   # 1                                                \n",
    "        keyToAdd.append(\"oppSuperCount\")    # 1                                                \n",
    "        keyToAdd.append(\"oppSuperMaxCount\") # 1                                                \n",
    "        keyToAdd.append(\"oppSuperSelected\")  # 1\n",
    "        keyToAdd.append(\"oppStunBar\")   # 1\n",
    "        keyToAdd.append(\"oppStunned\")   # 1\n",
    "else:                                                                           \n",
    "    keyToAdd.append(\"ownHealth1\") # 1                                             \n",
    "    keyToAdd.append(\"ownHealth2\") # 1                                             \n",
    "    keyToAdd.append(\"oppHealth1\") # 1                                              \n",
    "    keyToAdd.append(\"oppHealth2\") # 1  \n",
    "    keyToAdd.append(\"ownActiveChar\") # 1\n",
    "    keyToAdd.append(\"oppActiveChar\") # 1\n",
    "    \n",
    "keyToAdd.append(\"ownPosition\")     # 1\n",
    "keyToAdd.append(\"oppPosition\")     # 1\n",
    "if diambraKwargs[\"player\"] != \"P1P2\":\n",
    "    keyToAdd.append(\"stage\")           # 1\n",
    "keyToAdd.append(\"ownChar\")       # len(env.charNames)\n",
    "keyToAdd.append(\"oppChar\")       # len(env.charNames)"
   ]
  },
  {
   "cell_type": "code",
   "execution_count": null,
   "metadata": {},
   "outputs": [],
   "source": [
    "hardCore = False\n",
    "envId = gameId + \"_randomTestSBWrap\"\n",
    "numOfEnvs = 1\n",
    "env = makeStableBaselinesEnv(envId, numOfEnvs, timeDepSeed, diambraKwargs, diambraGymKwargs, \n",
    "                             wrapperKwargs, trajRecKwargs, keyToAdd=keyToAdd, noVec=True, hardCore=hardCore)"
   ]
  },
  {
   "cell_type": "code",
   "execution_count": null,
   "metadata": {},
   "outputs": [],
   "source": [
    "print(\"Observation Space:\", env.observation_space)\n",
    "print(\"Action Space:\", env.action_space)\n",
    "if not hardCore:\n",
    "    print(\"Keys to Dict:\")\n",
    "    for k,v in env.keysToDict.items():\n",
    "        print(k, v)"
   ]
  },
  {
   "cell_type": "code",
   "execution_count": null,
   "metadata": {},
   "outputs": [],
   "source": [
    "limAct = [None, None]\n",
    "if diambraKwargs[\"player\"] != \"P1P2\":\n",
    "    for idx in range(2):                                                        \n",
    "        limAct[idx] = [env.actBufLen * env.nActions[0],                                \n",
    "                       env.actBufLen * env.nActions[0] + env.actBufLen * env.nActions[1]]     \n",
    "else:\n",
    "    for idx in range(2):                                                        \n",
    "        limAct[idx] = [env.actBufLen * env.nActions[idx][0],                                \n",
    "                       env.actBufLen * env.nActions[idx][0] + env.actBufLen * env.nActions[idx][1]]     "
   ]
  },
  {
   "cell_type": "code",
   "execution_count": null,
   "metadata": {},
   "outputs": [],
   "source": [
    "actionsPrintDict = env.printActionsDict()\n",
    "observation = env.reset()"
   ]
  },
  {
   "cell_type": "code",
   "execution_count": null,
   "metadata": {},
   "outputs": [],
   "source": [
    "showObs(observation, gameId, env.actBufLen, 0, True, env.charNames, limAct, hardCore, idxList)"
   ]
  },
  {
   "cell_type": "code",
   "execution_count": null,
   "metadata": {},
   "outputs": [],
   "source": [
    "cumulativeEpRew = 0.0\n",
    "cumulativeEpRewAll = []\n",
    "\n",
    "maxNumEp = 100\n",
    "currNumEp = 0\n",
    "\n",
    "while currNumEp < maxNumEp:\n",
    "\n",
    "    actions = [None, None]\n",
    "    if diambraKwargs[\"player\"] != \"P1P2\":\n",
    "        actions = env.action_space.sample()\n",
    "        \n",
    "        if diambraGymKwargs[\"actionSpace\"] == \"discrete\":\n",
    "            moveAction, attAction = discreteToMultiDiscreteAction(actions, env.nActions[0])\n",
    "        else:\n",
    "            moveAction, attAction = actions[0], actions[1]\n",
    "            \n",
    "        print(\"(P1) {} {}\".format(actionsPrintDict[0][moveAction],       \n",
    "                                  actionsPrintDict[1][attAction])) \n",
    "        \n",
    "    else:\n",
    "        \n",
    "        for idx in range(2):\n",
    "        \n",
    "            actions[idx] = env.action_space[\"P{}\".format(idx+1)].sample()\n",
    "\n",
    "            if diambraGymKwargs[\"actionSpace\"][idx] == \"discrete\":\n",
    "                moveAction, attAction = discreteToMultiDiscreteAction(actions[idx], env.nActions[idx][0])\n",
    "            else:\n",
    "                moveAction, attAction = actions[idx][0], actions[idx][1]\n",
    "        \n",
    "            if diambraKwargs[\"player\"] != \"P1P2\" and idx == 1:\n",
    "                continue\n",
    "            \n",
    "            print(\"(P{}) {} {}\".format(idx+1, actionsPrintDict[0][moveAction],       \n",
    "                                              actionsPrintDict[1][attAction])) \n",
    "        \n",
    "    if diambraKwargs[\"player\"] == \"P1P2\" or diambraGymKwargs[\"actionSpace\"] != \"discrete\":\n",
    "        actions = np.append(actions[0], actions[1])   \n",
    "    \n",
    "    observation, reward, done, info = env.step(actions)\n",
    "    \n",
    "    print(\"action = \", actions)\n",
    "    print(\"reward:\", reward)\n",
    "    print(\"done = \", done)\n",
    "    for k, v in info.items():\n",
    "        print(\"info[\\\"{}\\\"] = {}\".format(k, v))\n",
    "    showObs(observation, gameId, env.actBufLen, 0, True, env.charNames, limAct, hardCore, idxList)\n",
    "        \n",
    "    print(\"----------\")\n",
    "    \n",
    "    cumulativeEpRew += reward\n",
    "    \n",
    "    if np.any(done):\n",
    "        currNumEp += 1\n",
    "        print(\"Ep. # = \", currNumEp)\n",
    "        print(\"Ep. Cumulative Rew # = \", cumulativeEpRew)\n",
    "        cumulativeEpRewAll.append(cumulativeEpRew)\n",
    "        cumulativeEpRew = 0.0\n",
    "\n",
    "        observation = env.reset()\n",
    "        showObs(observation, gameId, env.actBufLen, 0, True, env.charNames, limAct, hardCore, idxList)\n",
    "\n",
    "print(\"Mean cumulative reward = \", np.mean(cumulativeEpRewAll))    \n",
    "print(\"Std cumulative reward = \", np.std(cumulativeEpRewAll))       \n",
    "    \n",
    "env.close()"
   ]
  },
  {
   "cell_type": "code",
   "execution_count": null,
   "metadata": {},
   "outputs": [],
   "source": []
  }
 ],
 "metadata": {
  "kernelspec": {
   "display_name": "Python 3",
   "language": "python",
   "name": "python3"
  },
  "language_info": {
   "codemirror_mode": {
    "name": "ipython",
    "version": 3
   },
   "file_extension": ".py",
   "mimetype": "text/x-python",
   "name": "python",
   "nbconvert_exporter": "python",
   "pygments_lexer": "ipython3",
   "version": "3.6.12"
  }
 },
 "nbformat": 4,
 "nbformat_minor": 4
}
