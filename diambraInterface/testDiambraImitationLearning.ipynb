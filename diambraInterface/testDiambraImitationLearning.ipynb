{
 "cells": [
  {
   "cell_type": "code",
   "execution_count": null,
   "metadata": {},
   "outputs": [],
   "source": [
    "import sys, os\n",
    "import time\n",
    "import cv2\n",
    "\n",
    "import pickle, bz2 \n",
    "\n",
    "import tensorflow as tf\n",
    "import numpy as np\n",
    "\n",
    "sys.path.append(os.path.join(os.path.abspath(''), '../../utils'))\n",
    "\n",
    "from diambraImitationLearning import *"
   ]
  },
  {
   "cell_type": "code",
   "execution_count": null,
   "metadata": {},
   "outputs": [],
   "source": [
    "hwc_dim = [256,256,7]\n",
    "n_actions = [9, 8]\n",
    "RLTrajFileList = [\"./RLTraj_2020-08-31_23-35-01\"]\n",
    "rank = 0\n",
    "totalCpus = 1"
   ]
  },
  {
   "cell_type": "code",
   "execution_count": null,
   "metadata": {},
   "outputs": [],
   "source": [
    "env = diambraImitationLearning(hwc_dim, n_actions, RLTrajFileList, rank, totalCpus)"
   ]
  },
  {
   "cell_type": "code",
   "execution_count": null,
   "metadata": {},
   "outputs": [],
   "source": [
    "observation = env.reset()\n",
    "env.trajSummary()"
   ]
  },
  {
   "cell_type": "code",
   "execution_count": null,
   "metadata": {},
   "outputs": [],
   "source": [
    "shp = observation.shape\n",
    "\n",
    "additionalPar = int(observation[0,0,shp[2]-1])\n",
    "# 1P\n",
    "nScalarAddPar = additionalPar - 2*env.numberOfCharacters - env.actBufLen*(env.n_actions[0]+env.n_actions[1])\n",
    "\n",
    "print(\"Additional Par = \", additionalPar)\n",
    "print(\"N scalar actions = \", nScalarAddPar)\n",
    "\n",
    "cumulativeEpRew = 0.0\n",
    "cumulativeEpRewAll = []\n",
    "\n",
    "maxNumEp = 10\n",
    "currNumEp = 0\n",
    "\n",
    "while currNumEp < maxNumEp:\n",
    "    \n",
    "    observation, reward, done, action = env.step(0)\n",
    "    print(\"Action:\", action)\n",
    "    \n",
    "    addPar = observation[:,:,shp[2]-1]\n",
    "    addPar = np.reshape(addPar, (-1))\n",
    "    addPar = addPar[1:additionalPar+1]\n",
    "    actions = addPar[0:additionalPar-nScalarAddPar-2*env.numberOfCharacters]\n",
    "        \n",
    "    limAct = [env.actBufLen * env.n_actions[0], \n",
    "              env.actBufLen * env.n_actions[0] + env.actBufLen * env.n_actions[1]]\n",
    "        \n",
    "    moveActionsP1   = actions[0:limAct[0]]\n",
    "    attackActionsP1 = actions[limAct[0]:limAct[1]]\n",
    "    moveActionsP1   = np.reshape(moveActionsP1, (env.actBufLen,-1))\n",
    "    attackActionsP1 = np.reshape(attackActionsP1, (env.actBufLen,-1))\n",
    "    print(\"Move actions P1 = \", moveActionsP1)\n",
    "    print(\"Attack actions P1 = \", attackActionsP1)    \n",
    "        \n",
    "    others = addPar[additionalPar-nScalarAddPar-2*env.numberOfCharacters:]\n",
    "    print(\"ownHealth = \", others[0])\n",
    "    print(\"oppHealth = \", others[1])\n",
    "    print(\"ownPosition = \", others[2])\n",
    "    print(\"oppPosition = \", others[3])\n",
    "    #print(\"stage = \", others[4])\n",
    "        \n",
    "    obs = np.array(observation).astype(np.float32)\n",
    "    \n",
    "    for idx in range(shp[2]-1):\n",
    "        cv2.imshow(\"image\"+str(idx), obs[:,:,idx])\n",
    "    \n",
    "    cv2.waitKey()\n",
    " \n",
    "    cumulativeEpRew += reward\n",
    "    \n",
    "    if np.any(done):\n",
    "        currNumEp += 1\n",
    "        print(\"Ep. # = \", currNumEp)\n",
    "        print(\"Ep. Cumulative Rew # = \", cumulativeEpRew)\n",
    "        sys.stdout.flush()\n",
    "        cumulativeEpRewAll.append(cumulativeEpRew)\n",
    "        cumulativeEpRew = 0.0\n",
    "\n",
    "        observation = env.reset()\n",
    "        input(\"Stop\")\n",
    "\n",
    "print(\"Mean cumulative reward = \", np.mean(cumulativeEpRewAll))    \n",
    "print(\"Std cumulative reward = \", np.std(cumulativeEpRewAll))       "
   ]
  }
 ],
 "metadata": {
  "kernelspec": {
   "display_name": "Python 3",
   "language": "python",
   "name": "python3"
  },
  "language_info": {
   "codemirror_mode": {
    "name": "ipython",
    "version": 3
   },
   "file_extension": ".py",
   "mimetype": "text/x-python",
   "name": "python",
   "nbconvert_exporter": "python",
   "pygments_lexer": "ipython3",
   "version": "3.6.9"
  }
 },
 "nbformat": 4,
 "nbformat_minor": 4
}
