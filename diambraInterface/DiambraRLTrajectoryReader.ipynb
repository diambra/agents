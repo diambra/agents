{
 "cells": [
  {
   "cell_type": "code",
   "execution_count": null,
   "metadata": {},
   "outputs": [],
   "source": [
    "import sys, os\n",
    "import time\n",
    "import cv2\n",
    "\n",
    "import datetime                                                                 \n",
    "import pickle, bz2 \n",
    "\n",
    "import tensorflow as tf\n",
    "import numpy as np\n",
    "\n",
    "timeDepSeed = int((time.time()-int(time.time()-0.5))*1000)\n",
    "\n",
    "sys.path.append(os.path.join(os.path.abspath(''), '../../utils'))"
   ]
  },
  {
   "cell_type": "code",
   "execution_count": null,
   "metadata": {},
   "outputs": [],
   "source": [
    "RLTrajFile = \"./RLTrajRec_2020-08-31_00-15-00\"\n",
    "\n",
    "infile = bz2.BZ2File(RLTrajFile, 'r')\n",
    "RLTrajDict = pickle.load(infile)\n",
    "infile.close()"
   ]
  },
  {
   "cell_type": "code",
   "execution_count": null,
   "metadata": {},
   "outputs": [],
   "source": [
    "print(RLTrajDict.keys())"
   ]
  },
  {
   "cell_type": "code",
   "execution_count": null,
   "metadata": {},
   "outputs": [],
   "source": [
    "print(\"Ep. length =\",RLTrajDict[\"epLen\"] )"
   ]
  },
  {
   "cell_type": "code",
   "execution_count": null,
   "metadata": {},
   "outputs": [],
   "source": [
    "for key, value in RLTrajDict.items():\n",
    "    if type(value) == list:\n",
    "        print(\"len(\",key,\") :\", len(value))\n",
    "    else:\n",
    "        print(key,\":\", value)"
   ]
  },
  {
   "cell_type": "code",
   "execution_count": null,
   "metadata": {},
   "outputs": [],
   "source": [
    "additionalPar = int(RLTrajDict[\"addObs\"][0][0,0])\n",
    "\n",
    "# 1P\n",
    "nScalarAddPar = additionalPar - 2*RLTrajDict[\"nChars\"]\\\n",
    "                - RLTrajDict[\"actBufLen\"]*(RLTrajDict[\"nActions\"][0]+RLTrajDict[\"nActions\"][1])\n",
    "\n",
    "print(\"Additional Par = \", additionalPar)\n",
    "print(\"N scalar actions = \", nScalarAddPar)\n",
    "\n",
    "cumulativeEpRew = 0.0\n",
    "cumulativeEpRewAll = []\n",
    "\n",
    "for idx in range(RLTrajDict[\"epLen\"]):\n",
    "    \n",
    "    # 1P\n",
    "    action = RLTrajDict[\"actions\"][idx]\n",
    "\n",
    "    print(\"Action:\", action)\n",
    "    \n",
    "    obsH = RLTrajDict[\"frames\"][0].shape[0]\n",
    "    obsW = RLTrajDict[\"frames\"][0].shape[1]\n",
    "    obsNChannels = len(RLTrajDict[\"frames\"]) - RLTrajDict[\"epLen\"] + 1\n",
    "    observation = np.zeros((obsH, obsW, obsNChannels))\n",
    "    \n",
    "    for iFrame in range(obsNChannels-1):\n",
    "        observation[:,:,iFrame] = RLTrajDict[\"frames\"][idx + 1 + iFrame]\n",
    "    observation[:,:,obsNChannels-1] = RLTrajDict[\"addObs\"][idx]\n",
    "        \n",
    "    reward = RLTrajDict[\"rewards\"][idx]\n",
    "    \n",
    "    done = False\n",
    "    if idx == RLTrajDict[\"epLen\"] - 1:\n",
    "        done = True\n",
    "\n",
    "    addPar = RLTrajDict[\"addObs\"][idx]\n",
    "    addPar = np.reshape(addPar, (-1))\n",
    "    addPar = addPar[1:additionalPar+1]\n",
    "    actions = addPar[0:additionalPar-nScalarAddPar-2*RLTrajDict[\"nChars\"]]\n",
    "        \n",
    "    limAct = [RLTrajDict[\"actBufLen\"] * RLTrajDict[\"nActions\"][0], \n",
    "              RLTrajDict[\"actBufLen\"] * RLTrajDict[\"nActions\"][0] + \n",
    "              RLTrajDict[\"actBufLen\"] * RLTrajDict[\"nActions\"][1]]\n",
    "        \n",
    "    moveActionsP1   = actions[0:limAct[0]]\n",
    "    attackActionsP1 = actions[limAct[0]:limAct[1]]\n",
    "    moveActionsP1   = np.reshape(moveActionsP1, (RLTrajDict[\"actBufLen\"],-1))\n",
    "    attackActionsP1 = np.reshape(attackActionsP1, (RLTrajDict[\"actBufLen\"],-1))\n",
    "    print(\"Move actions P1 = \", moveActionsP1)\n",
    "    print(\"Attack actions P1 = \", attackActionsP1)\n",
    "        \n",
    "    others = addPar[additionalPar-nScalarAddPar-2*RLTrajDict[\"nChars\"]:]\n",
    "    print(\"ownHealth = \", others[0])\n",
    "    print(\"oppHealth = \", others[1])\n",
    "    print(\"ownPosition = \", others[2])\n",
    "    print(\"oppPosition = \", others[3])\n",
    "    #print(\"stage = \", others[4])\n",
    "    #input(\"Pausa1\")       \n",
    "       \n",
    "    obs = np.array(observation).astype(np.float32)\n",
    "    \n",
    "    for iFrame in range(obsNChannels-1):\n",
    "        cv2.imshow(\"image\"+str(iFrame), obs[:,:,iFrame])\n",
    "    \n",
    "    cv2.waitKey()\n",
    "    \n",
    "    cumulativeEpRew += reward\n",
    "    \n",
    "    if np.any(done):\n",
    "        print(\"Ep. Cumulative Rew # = \", cumulativeEpRew)\n",
    "        sys.stdout.flush()\n",
    "        cumulativeEpRewAll.append(cumulativeEpRew)\n",
    "        cumulativeEpRew = 0.0\n",
    "        input(\"Stop\")    "
   ]
  },
  {
   "cell_type": "code",
   "execution_count": null,
   "metadata": {},
   "outputs": [],
   "source": []
  }
 ],
 "metadata": {
  "kernelspec": {
   "display_name": "Python 3",
   "language": "python",
   "name": "python3"
  },
  "language_info": {
   "codemirror_mode": {
    "name": "ipython",
    "version": 3
   },
   "file_extension": ".py",
   "mimetype": "text/x-python",
   "name": "python",
   "nbconvert_exporter": "python",
   "pygments_lexer": "ipython3",
   "version": "3.6.9"
  }
 },
 "nbformat": 4,
 "nbformat_minor": 4
}
