{
 "cells": [
  {
   "cell_type": "code",
   "execution_count": null,
   "metadata": {},
   "outputs": [],
   "source": [
    "import tensorflow as tf"
   ]
  },
  {
   "cell_type": "markdown",
   "metadata": {},
   "source": [
    "## Standard MobileNetV2 Pretrained"
   ]
  },
  {
   "cell_type": "code",
   "execution_count": null,
   "metadata": {},
   "outputs": [],
   "source": [
    "IMG_SHAPE = (224, 224, 3)\n",
    "\n",
    "# Create the base model from the pre-trained model MobileNet V2\n",
    "base_model = tf.keras.applications.MobileNetV2(input_shape=IMG_SHAPE,\n",
    "                                               include_top=True,\n",
    "                                               weights='imagenet')"
   ]
  },
  {
   "cell_type": "code",
   "execution_count": null,
   "metadata": {},
   "outputs": [],
   "source": [
    "base_model.trainable = False\n",
    "\n",
    "# Let's take a look at the base model architecture\n",
    "base_model.summary()"
   ]
  },
  {
   "cell_type": "markdown",
   "metadata": {},
   "source": [
    "## Standard MobileNetV2 Untrained and custom input shape"
   ]
  },
  {
   "cell_type": "code",
   "execution_count": null,
   "metadata": {},
   "outputs": [],
   "source": [
    "IMG_SHAPE = (256, 256, 1)\n",
    "\n",
    "# Create the base model from the pre-trained model MobileNet V2\n",
    "base_model = tf.keras.applications.MobileNetV2(input_shape=IMG_SHAPE,\n",
    "                                               include_top=False,\n",
    "                                               pooling=\"max\",\n",
    "                                               weights=None)\n",
    "base_model = tf.keras.Sequential([\n",
    "        base_model,\n",
    "        tf.keras.layers.Dense(2048, activation='relu')\n",
    "])"
   ]
  },
  {
   "cell_type": "code",
   "execution_count": null,
   "metadata": {},
   "outputs": [],
   "source": [
    "# Let's take a look at the base model architecture\n",
    "base_model.summary()"
   ]
  },
  {
   "cell_type": "markdown",
   "metadata": {},
   "source": [
    "## Xception"
   ]
  },
  {
   "cell_type": "code",
   "execution_count": null,
   "metadata": {},
   "outputs": [],
   "source": [
    "IMG_SHAPE = (256, 256, 1)\n",
    "\n",
    "# Create the base model from the pre-trained model MobileNet V2\n",
    "base_model = tf.keras.applications.Xception(input_shape=IMG_SHAPE,\n",
    "                                            include_top=False,\n",
    "                                            pooling=\"max\",\n",
    "                                            weights=None)\n",
    "\n",
    "base_model = tf.keras.Sequential([\n",
    "        base_model,\n",
    "        tf.keras.layers.Dense(2048, activation='relu')\n",
    "])"
   ]
  },
  {
   "cell_type": "code",
   "execution_count": null,
   "metadata": {},
   "outputs": [],
   "source": [
    "# Let's take a look at the base model architecture\n",
    "base_model.summary()"
   ]
  },
  {
   "cell_type": "markdown",
   "metadata": {},
   "source": [
    "## Custom Net"
   ]
  },
  {
   "cell_type": "code",
   "execution_count": null,
   "metadata": {},
   "outputs": [],
   "source": [
    "# Create the base model from the pre-trained model MobileNet V2\n",
    "INPUT_SHAPE = [192,192,1]\n",
    "\n",
    "model = tf.keras.Sequential([ \n",
    "    tf.keras.layers.Conv2D(16, 3, padding='same', activation='relu', input_shape=INPUT_SHAPE), \n",
    "    tf.keras.layers.MaxPooling2D(), \n",
    "    tf.keras.layers.Conv2D(32, 3, padding='same', activation='relu'), \n",
    "    tf.keras.layers.MaxPooling2D(), \n",
    "    tf.keras.layers.Conv2D(64, 3, padding='same', activation='relu'), \n",
    "    tf.keras.layers.MaxPooling2D(), \n",
    "    tf.keras.layers.Flatten(), \n",
    "    tf.keras.layers.Dense(512, activation='relu'), \n",
    "]) \n",
    "\n",
    "model.summary() "
   ]
  },
  {
   "cell_type": "markdown",
   "metadata": {},
   "source": [
    "## Nature Cnn"
   ]
  },
  {
   "cell_type": "code",
   "execution_count": null,
   "metadata": {},
   "outputs": [],
   "source": [
    "#    layer_1 = activ(conv(scaled_, 'c1', n_filters=32, filter_size=8, stride=4, init_scale=np.sqrt(2), **kwargs))\n",
    "#    layer_2 = activ(conv(layer_1, 'c2', n_filters=64, filter_size=4, stride=2, init_scale=np.sqrt(2), **kwargs))\n",
    "#    layer_3 = activ(conv(layer_2, 'c3', n_filters=64, filter_size=3, stride=1, init_scale=np.sqrt(2), **kwargs))\n",
    "#    layer_3 = conv_to_fc(layer_3)                                               \n",
    "#    return activ(linear(layer_3, 'fc1', n_hidden=512, init_scale=np.sqrt(2)))   \n",
    "\n",
    "\n",
    "# Create the base model from the pre-trained model MobileNet V2\n",
    "INPUT_SHAPE = [256,256,1]\n",
    "\n",
    "model = tf.keras.Sequential([ \n",
    "    tf.keras.layers.Conv2D(32, 8, strides=4, padding='valid', activation='relu', input_shape=INPUT_SHAPE), \n",
    "    #tf.keras.layers.MaxPooling2D(), \n",
    "    tf.keras.layers.Conv2D(64, 4, strides=2, padding='valid', activation='relu'), \n",
    "    #tf.keras.layers.MaxPooling2D(), \n",
    "    tf.keras.layers.Conv2D(64, 3, strides=1, padding='valid', activation='relu'), \n",
    "    #tf.keras.layers.MaxPooling2D(), \n",
    "    tf.keras.layers.Flatten(), \n",
    "    tf.keras.layers.Dense(512, activation='relu'), \n",
    "]) \n",
    "\n",
    "model.summary() "
   ]
  },
  {
   "cell_type": "code",
   "execution_count": null,
   "metadata": {},
   "outputs": [],
   "source": []
  }
 ],
 "metadata": {
  "kernelspec": {
   "display_name": "Python 3",
   "language": "python",
   "name": "python3"
  },
  "language_info": {
   "codemirror_mode": {
    "name": "ipython",
    "version": 3
   },
   "file_extension": ".py",
   "mimetype": "text/x-python",
   "name": "python",
   "nbconvert_exporter": "python",
   "pygments_lexer": "ipython3",
   "version": "3.6.9"
  }
 },
 "nbformat": 4,
 "nbformat_minor": 4
}
