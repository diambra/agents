{
 "cells": [
  {
   "cell_type": "code",
   "execution_count": null,
   "metadata": {},
   "outputs": [],
   "source": [
    "gameFolder = \"DOA++-MAME\"\n",
    "#gameFolder = \"SFIII-MAME\"\n",
    "#gameFolder = \"UMK3-MAME\"\n",
    "#gameFolder = \"TEKTAG-MAME\""
   ]
  },
  {
   "cell_type": "code",
   "execution_count": null,
   "metadata": {},
   "outputs": [],
   "source": [
    "import sys, os\n",
    "import random\n",
    "\n",
    "sys.path.append(os.path.join(os.path.abspath(''), '../../games',gameFolder))   \n",
    "\n",
    "from diambraMameGym import *"
   ]
  },
  {
   "cell_type": "code",
   "execution_count": null,
   "metadata": {},
   "outputs": [],
   "source": [
    "diambraKwargs = {}\n",
    "diambraKwargs[\"roms_path\"] = \"../../roms/MAMEToolkit/roms/\"\n",
    "diambraKwargs[\"binary_path\"] = \"../../../customMAME/\"\n",
    "diambraKwargs[\"frame_ratio\"] = 1\n",
    "\n",
    "# P1\n",
    "diambraKwargs[\"player\"] = \"Random\"\n",
    "# P2\n",
    "#diambraKwargs[\"player\"] = \"P1P2\""
   ]
  },
  {
   "cell_type": "code",
   "execution_count": null,
   "metadata": {},
   "outputs": [],
   "source": [
    "# DOA\n",
    "diambraKwargs[\"characters\"] =[\"Random\", \"Random\"]\n",
    "diambraKwargs[\"charOutfits\"] =[4, 4]"
   ]
  },
  {
   "cell_type": "code",
   "execution_count": null,
   "metadata": {},
   "outputs": [],
   "source": [
    "env = diambraMame(\"Test\", diambraKwargs)\n",
    "\n",
    "observation = env.reset()"
   ]
  },
  {
   "cell_type": "code",
   "execution_count": null,
   "metadata": {},
   "outputs": [],
   "source": [
    "while True:\n",
    "\n",
    "    action = env.action_space.sample()\n",
    "    print(\"Action1P = \", action)\n",
    "    if diambraKwargs[\"player\"] == \"P1P2\":\n",
    "        action2 = env.action_space.sample()\n",
    "        action = np.append(action, action2[0])\n",
    "        action = np.append(action, action2[1])\n",
    "        print(\"Action2P = \", action2)\n",
    "    print(\"Action = \", action)\n",
    "    \n",
    "    observation, reward, done, info = env.step(action)\n",
    "\n",
    "    print(\"Frames shape:\", observation.shape)\n",
    "    #print(\"Reward:\", reward)\n",
    "    #print(\"Fighting = \", info[\"fighting\"])\n",
    "    print(\"Rewards = \", info[\"rewards\"])\n",
    "    print(\"HealthP1 = \", info[\"healthP1\"])\n",
    "    print(\"HealthP2 = \", info[\"healthP2\"])\n",
    "    print(\"PositionP1 = \", info[\"positionP1\"])\n",
    "    print(\"PositionP2 = \", info[\"positionP2\"])\n",
    "    print(\"WinP1 = \", info[\"winsP1\"])\n",
    "    print(\"WinP2 = \", info[\"winsP2\"])\n",
    "    print(\"Done = \", done)\n",
    "\n",
    "    if done:\n",
    "        print(\"Resetting Env\")\n",
    "        observation = env.reset()\n",
    "        \n",
    "env.close()"
   ]
  }
 ],
 "metadata": {
  "kernelspec": {
   "display_name": "Python 3",
   "language": "python",
   "name": "python3"
  },
  "language_info": {
   "codemirror_mode": {
    "name": "ipython",
    "version": 3
   },
   "file_extension": ".py",
   "mimetype": "text/x-python",
   "name": "python",
   "nbconvert_exporter": "python",
   "pygments_lexer": "ipython3",
   "version": "3.6.9"
  }
 },
 "nbformat": 4,
 "nbformat_minor": 4
}
