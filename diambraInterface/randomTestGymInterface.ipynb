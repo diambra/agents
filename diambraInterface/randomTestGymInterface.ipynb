{
 "cells": [
  {
   "cell_type": "code",
   "execution_count": null,
   "metadata": {},
   "outputs": [],
   "source": [
    "#gameId = \"doapp\"\n",
    "#gameId = \"sfiii3n\"\n",
    "#gameId = \"umk3\"\n",
    "gameId = \"tektagt\""
   ]
  },
  {
   "cell_type": "code",
   "execution_count": null,
   "metadata": {},
   "outputs": [],
   "source": [
    "import cv2, sys, os\n",
    "import random\n",
    "import numpy as np\n",
    "\n",
    "sys.path.append(os.path.join(os.path.abspath(''), '../../games'))  \n",
    "sys.path.append(os.path.join(os.path.abspath(''), '../../utils'))\n",
    "sys.path.append(os.path.join(os.path.abspath(''), '../../pythonGamePadInterface'))\n",
    "\n",
    "from diambraMameGym import diambraMame\n",
    "from diambraGamepad import diambraGamepad \n",
    "from policies import gamepadPolicy, RLPolicy # To train AI against another AI or HUM"
   ]
  },
  {
   "cell_type": "code",
   "execution_count": null,
   "metadata": {},
   "outputs": [],
   "source": [
    "diambraKwargs = {}\n",
    "diambraKwargs[\"roms_path\"] = \"../../roms/mame/\"\n",
    "diambraKwargs[\"binary_path\"] = \"../../customMAME/\"\n",
    "diambraKwargs[\"frame_ratio\"] = 1\n",
    "diambraKwargs[\"throttle\"] = False\n",
    "diambraKwargs[\"sound\"] = diambraKwargs[\"throttle\"]\n",
    "\n",
    "# P1\n",
    "diambraKwargs[\"player\"] = \"P2\"\n",
    "# P2\n",
    "#diambraKwargs[\"player\"] = \"P1P2\""
   ]
  },
  {
   "cell_type": "code",
   "execution_count": null,
   "metadata": {},
   "outputs": [],
   "source": [
    "if gameId != \"tektagt\":\n",
    "    diambraKwargs[\"characters\"] = [\"Random\", \"Select\"]\n",
    "else:\n",
    "    diambraKwargs[\"characters\"] = [[\"Random\", \"Random\"], [\"Random\", \"Random\"]]\n",
    "diambraKwargs[\"charOutfits\"] = [2, 2]"
   ]
  },
  {
   "cell_type": "code",
   "execution_count": null,
   "metadata": {},
   "outputs": [],
   "source": [
    "# Initialize P2 policy = GamePad\n",
    "gamePad_policy = gamepadPolicy(diambraGamepad)"
   ]
  },
  {
   "cell_type": "code",
   "execution_count": null,
   "metadata": {},
   "outputs": [],
   "source": [
    "# DIAMBRA gym kwargs\n",
    "diambraGymKwargs = {}\n",
    "diambraGymKwargs[\"P2brain\"] = None#gamePad_policy\n",
    "diambraGymKwargs[\"continue_game\"] = 0.0\n",
    "diambraGymKwargs[\"show_final\"] = False\n",
    "diambraGymKwargs[\"gamePads\"] = [None, diambraGymKwargs[\"P2brain\"]]\n",
    "diambraGymKwargs[\"actionSpace\"] = [\"discrete\", \"discrete\"]\n",
    "diambraGymKwargs[\"attackButCombinations\"] = [True, False]\n",
    "diambraGymKwargs[\"actBufLen\"]             = 12"
   ]
  },
  {
   "cell_type": "code",
   "execution_count": null,
   "metadata": {},
   "outputs": [],
   "source": [
    "envId = gameId + \"_Test\"\n",
    "env = diambraMame(envId, diambraKwargs, **diambraGymKwargs)"
   ]
  },
  {
   "cell_type": "code",
   "execution_count": null,
   "metadata": {},
   "outputs": [],
   "source": [
    "# Printing action spaces\n",
    "for idx in range(2):\n",
    "    \n",
    "    if diambraKwargs[\"player\"] != \"P1P2\" and idx == 1:\n",
    "        continue\n",
    "        \n",
    "    print(\"Action space P{} = \".format(idx+1), env.action_spaces[idx])\n",
    "    print(\"Action space type P{} = \".format(idx+1), env.action_spaces[idx].dtype)\n",
    "    if diambraGymKwargs[\"actionSpace\"][idx] == \"multiDiscrete\":\n",
    "        print(\"Action space n = \", env.action_spaces[idx].nvec)\n",
    "    else:\n",
    "        print(\"Action space n = \", env.action_spaces[idx].n)"
   ]
  },
  {
   "cell_type": "code",
   "execution_count": null,
   "metadata": {},
   "outputs": [],
   "source": [
    "def showFrame(observation, waitKey = 1):\n",
    "    obs = np.array(observation).astype(np.float32)/255\n",
    "\n",
    "    cv2.imshow(\"image\", obs[:, :, ::-1]) #bgr 2 rgb\n",
    "    cv2.waitKey(waitKey)"
   ]
  },
  {
   "cell_type": "code",
   "execution_count": null,
   "metadata": {},
   "outputs": [],
   "source": [
    "actionsPrintDict = env.print_actions_dict()\n",
    "\n",
    "observation = env.reset()"
   ]
  },
  {
   "cell_type": "code",
   "execution_count": null,
   "metadata": {},
   "outputs": [],
   "source": [
    "showFrame(observation, 0)"
   ]
  },
  {
   "cell_type": "code",
   "execution_count": null,
   "metadata": {},
   "outputs": [],
   "source": [
    "while True:\n",
    "\n",
    "    actions = [None, None]\n",
    "    for idx in range(2):\n",
    "        \n",
    "        actions[idx] = env.action_spaces[idx].sample()\n",
    "\n",
    "        if diambraGymKwargs[\"actionSpace\"][idx] == \"discrete\":\n",
    "            move_action, att_action = env.discreteToMultiDiscreteAction(actions[idx])\n",
    "        else:\n",
    "            move_action, att_action = actions[idx][0], actions[idx][1]\n",
    "        \n",
    "        if diambraKwargs[\"player\"] != \"P1P2\" and idx == 1:\n",
    "            continue\n",
    "            \n",
    "        print(\"(P{}) {} {}\".format(idx+1, actionsPrintDict[0][move_action],       \n",
    "                                          actionsPrintDict[1][att_action])) \n",
    "        \n",
    "    if diambraKwargs[\"player\"] != \"P1P2\" and diambraGymKwargs[\"actionSpace\"][0] == \"discrete\":\n",
    "        actions = actions[0]\n",
    "    else:\n",
    "        actions = np.append(actions[0], actions[1])    \n",
    "\n",
    "    observation, reward, done, info = env.step(actions)\n",
    "\n",
    "    print(\"Frames shape:\", observation.shape)\n",
    "    print(\"Reward:\", reward)\n",
    "    print(\"Actions Buffer P1 = \", info[\"actionsBufP1\"])\n",
    "    if diambraKwargs[\"player\"] == \"P1P2\":\n",
    "        print(\"Actions Buffer P2 = \", info[\"actionsBufP2\"])\n",
    "    print(\"Rewards:\", info[\"rewards\"])\n",
    "    print(\"Fighting = \", info[\"fighting\"])\n",
    "\n",
    "    if diambraKwargs[\"player\"] == \"P1P2\":\n",
    "        print(\"Char P1 = \", env.charNames[env.playingCharacters[0]])\n",
    "        print(\"Char P2 = \", env.charNames[env.playingCharacters[1]])\n",
    "    else:\n",
    "        print(\"Char = \", env.charNames[env.playingCharacters[env.playerId]])\n",
    "    \n",
    "    if gameId == \"tektagt\":                                                    \n",
    "        print(\"healthP1_1 = \", info[\"healthP1_1\"])                             \n",
    "        print(\"healthP1_2 = \", info[\"healthP1_2\"])                             \n",
    "        print(\"healthP2_1 = \", info[\"healthP2_1\"])                             \n",
    "        print(\"healthP2_2 = \", info[\"healthP2_2\"])                             \n",
    "        print(\"activeCharP1 = \", info[\"activeCharP1\"])\n",
    "        print(\"activeCharP2 = \", info[\"activeCharP2\"])                                                                     \n",
    "    else:                                                                       \n",
    "        print(\"healthP1 = \", info[\"healthP1\"])                                  \n",
    "        print(\"healthP2 = \", info[\"healthP2\"])  \n",
    "        \n",
    "    print(\"PositionP1 = \", info[\"positionP1\"])\n",
    "    print(\"PositionP2 = \", info[\"positionP2\"])\n",
    "    print(\"WinP1 = \", info[\"winsP1\"])\n",
    "    print(\"WinP2 = \", info[\"winsP2\"])\n",
    "    print(\"Stage = \", info[\"stage\"])\n",
    "    print(\"Round done = \", info[\"round_done\"])\n",
    "    print(\"Stage done = \", info[\"stage_done\"])\n",
    "    print(\"Game done = \", info[\"game_done\"])\n",
    "    print(\"Episode done = \", info[\"episode_done\"])\n",
    "    print(\"Done = \", done)\n",
    "    showFrame(observation, 0)\n",
    "    \n",
    "    if done:\n",
    "        print(\"Resetting Env\")\n",
    "        observation = env.reset()\n",
    "        showFrame(observation, 0)\n",
    "        \n",
    "env.close()"
   ]
  }
 ],
 "metadata": {
  "kernelspec": {
   "display_name": "Python 3",
   "language": "python",
   "name": "python3"
  },
  "language_info": {
   "codemirror_mode": {
    "name": "ipython",
    "version": 3
   },
   "file_extension": ".py",
   "mimetype": "text/x-python",
   "name": "python",
   "nbconvert_exporter": "python",
   "pygments_lexer": "ipython3",
   "version": "3.6.12"
  }
 },
 "nbformat": 4,
 "nbformat_minor": 4
}
