{
 "cells": [
  {
   "cell_type": "code",
   "execution_count": null,
   "metadata": {},
   "outputs": [],
   "source": [
    "gameFolder = \"DOA++-MAME\"\n",
    "#gameFolder = \"SFIII-MAME\"\n",
    "#gameFolder = \"UMK3-MAME\"\n",
    "#gameFolder = \"TEKTAG-MAME\""
   ]
  },
  {
   "cell_type": "code",
   "execution_count": null,
   "metadata": {},
   "outputs": [],
   "source": [
    "import sys, os\n",
    "import time\n",
    "import cv2\n",
    "import tensorflow as tf\n",
    "\n",
    "timeDepSeed = int((time.time()-int(time.time()-0.5))*1000)\n",
    "\n",
    "sys.path.append(os.path.join(os.path.abspath(''), '../../games',gameFolder))   "
   ]
  },
  {
   "cell_type": "code",
   "execution_count": null,
   "metadata": {},
   "outputs": [],
   "source": [
    "from makeDiambraEnv import *"
   ]
  },
  {
   "cell_type": "code",
   "execution_count": null,
   "metadata": {},
   "outputs": [],
   "source": [
    "diambraKwargs = {}\n",
    "diambraKwargs[\"roms_path\"] = \"../../roms/MAMEToolkit/roms/\"\n",
    "diambraKwargs[\"binary_path\"] = \"../../../customMAME/\"\n",
    "diambraKwargs[\"player\"] = \"P1\"\n",
    "diambraKwargs[\"frame_ratio\"] = 3\n",
    "#diambraKwargs[\"render\"] =True\n",
    "#diambraKwargs[\"throttle\"] = False\n",
    "#diambraKwargs[\"sound\"] = False \n",
    "#diambraKwargs[\"character\"] =\"Random\"\n",
    "diambraKwargs[\"character\"] =\"Kasumi\"\n",
    "\n",
    "numEnv=1\n",
    "\n",
    "wrapperKwargs = {}\n",
    "wrapperKwargs[\"frame_stack\"] = 1\n",
    "wrapperKwargs[\"clip_rewards\"] = False\n",
    "wrapperKwargs[\"normalize_rewards\"] = True\n",
    "wrapperKwargs[\"scale\"] = True\n",
    "wrapperKwargs[\"scale_mod\"] = -1\n",
    "wrapperKwargs[\"hwc_obs_resize\"] = [224, 224, 3]\n",
    "\n",
    "#keyToAdd = None\n",
    "keyToAdd = []\n",
    "keyToAdd.append(\"actionsBuf\")\n",
    "#keyToAdd.append(\"player\")\n",
    "keyToAdd.append(\"healthP1\")\n",
    "keyToAdd.append(\"healthP2\")\n",
    "keyToAdd.append(\"positionP1\")\n",
    "keyToAdd.append(\"positionP2\")\n",
    "#keyToAdd.append(\"winsP1\")\n",
    "#keyToAdd.append(\"winsP2\")\n",
    "\n",
    "env = make_diambra_env(diambraMame, env_prefix=\"Test\", num_env=numEnv, seed=timeDepSeed, continue_game = -2,\n",
    "                       diambra_kwargs = diambraKwargs, wrapper_kwargs = wrapperKwargs,\n",
    "                       key_to_add = keyToAdd, no_vec = True)\n",
    "\n",
    "# OR \n",
    "#env = make_diambra_env(diambraMame, num_env=numEnv, seed=0, diambra_kwargs = diambraKwargs)\n",
    "# Frame-stacking with 4 frames\n",
    "#env = VecFrameStack(env, n_stack=4)"
   ]
  },
  {
   "cell_type": "code",
   "execution_count": null,
   "metadata": {},
   "outputs": [],
   "source": [
    "env.observation_space"
   ]
  },
  {
   "cell_type": "code",
   "execution_count": null,
   "metadata": {},
   "outputs": [],
   "source": [
    "env.observation_space.dtype"
   ]
  },
  {
   "cell_type": "code",
   "execution_count": null,
   "metadata": {},
   "outputs": [],
   "source": [
    "env.observation_space.high"
   ]
  },
  {
   "cell_type": "code",
   "execution_count": null,
   "metadata": {},
   "outputs": [],
   "source": [
    "env.observation_space.low"
   ]
  },
  {
   "cell_type": "code",
   "execution_count": null,
   "metadata": {},
   "outputs": [],
   "source": [
    "observation = env.reset()\n",
    "\n",
    "shp = observation.shape\n",
    "\n",
    "additionalPar = int(observation[0,0,shp[2]-1])\n",
    "print(\"Additional Par = \", additionalPar)\n",
    "\n",
    "cumulativeEpRew = 0.0\n",
    "cumulativeEpRewAll = []\n",
    "cumulativeTotRew = 0.0\n",
    "\n",
    "maxNumEp = 100\n",
    "currNumEp = 0\n",
    "\n",
    "sess = tf.Session();\n",
    "\n",
    "while currNumEp < maxNumEp:\n",
    "\n",
    "    #action = int(input(\"Action to take\"))\n",
    "    action = env.action_space.sample()\n",
    "    #action = 11\n",
    "    #print(\"Action:\", action)\n",
    "    observation, reward, done, info = env.step(action)\n",
    "    #print(\"Observation shape =\", observation.shape)\n",
    "    #input(\"Pausa\")\n",
    "    #print(\"Max = \", np.array(observation).astype(np.float32).max())\n",
    "    #input(\"Pausa1\")\n",
    "    #print(\"Observation ch 5 = \", observation[:,:,shp[2]-1])\n",
    "    #input(\"Pausa1\")\n",
    "    #addPar = observation[:,:,shp[2]-1]\n",
    "    #addPar = np.reshape(addPar, (-1))\n",
    "    #addPar = addPar[1:149]\n",
    "    #actions = addPar[0:144]\n",
    "    #actions = np.reshape(actions, (12,-1))\n",
    "    #print(\"Actions = \", actions)\n",
    "    #others = addPar[144:]\n",
    "    #print(\"Others = \", others)\n",
    "    #input(\"Pausa1\")\n",
    "    #print(np.array(observation).astype(np.float32).shape)\n",
    "    #input(\"Pausa2\")\n",
    "    #print(tf.cast(observation, tf.float32).eval(session=sess))\n",
    "    #doit = True\n",
    "    #if info[\"round_done\"] == True or doit:\n",
    "    #    tensor = tf.cast(observation, tf.float32)\n",
    "    #    tensor2 = tensor[:,:,shp[2]-1]\n",
    "    #    print(\"Number off additional param = \", tensor2[0,0].eval(session=sess))    \n",
    "    #    tensor2 = tf.reshape(tensor2, [-1]) \n",
    "    #    #print(\"After reshaping = \", tensor2)    \n",
    "    #    tensor2 = tensor2[1:1+additionalPar]\n",
    "    #    #print(\"Tensor=\", tensor)\n",
    "    #    tensor_actions = tf.reshape(tensor2[0:additionalPar-4], [12,-1]) \n",
    "    #    print(\"Tensor=\", tensor2[additionalPar-4:additionalPar+1].eval(session=sess))\n",
    "    #    print(\"Tensor=\", tensor_actions.eval(session=sess))\n",
    "    #    input(\"Pausa\")\n",
    "        \n",
    "    #obs = (observation + 1.0) * 0.5 \n",
    "    #obs = np.array(observation).astype(np.float32)/255.0\n",
    "        \n",
    "    #cv2.imshow(\"image1\", obs[:,:,0:3])\n",
    "    #cv2.imshow(\"image2\", obs[:,:,1])\n",
    "    #cv2.imshow(\"image3\", obs[:,:,2])\n",
    "    #cv2.imshow(\"image4\", obs[:,:,3])\n",
    "    #cv2.waitKey()\n",
    "    \n",
    "    #print(\"Frames shape:\", observation.shape)\n",
    "    #print(\"Reward:\", reward)\n",
    "    #print(\"Fighting = \", info[\"fighting\"])\n",
    "    #print(\"Rewards = \", info[\"rewards\"])\n",
    "    #print(\"HealthP1 = \", info[\"healthP1\"])\n",
    "    #print(\"HealthP2 = \", info[\"healthP2\"])\n",
    "    #print(\"HealthP1_1 = \", info[\"healthP1_1\"])\n",
    "    #print(\"HealthP1_2 = \", info[\"healthP1_2\"])\n",
    "    #print(\"HealthP2_1 = \", info[\"healthP2_1\"])\n",
    "    #print(\"HealthP2_2 = \", info[\"healthP2_2\"])\n",
    "    #print(\"PositionP1 = \", info[\"positionP1\"])\n",
    "    #print(\"PositionP2 = \", info[\"positionP2\"])\n",
    "    #print(\"WinP1 = \", info[\"winsP1\"]) \n",
    "    #print(\"WinP2 = \", info[\"winsP2\"])\n",
    "\n",
    "    \n",
    "    cumulativeEpRew += reward\n",
    "    \n",
    "    if np.any(done):\n",
    "        currNumEp += 1\n",
    "        print(\"Ep. # = \", currNumEp)\n",
    "        print(\"Ep. Cumulative Rew # = \", cumulativeEpRew)\n",
    "        sys.stdout.flush()\n",
    "        cumulativeEpRewAll.append(cumulativeEpRew)\n",
    "        cumulativeTotRew += cumulativeEpRew\n",
    "        cumulativeEpRew = 0.0\n",
    "\n",
    "        observation = env.reset()\n",
    "\n",
    "print(\"Mean cumulative reward = \", cumulativeTotRew/maxNumEp)    \n",
    "print(\"Mean cumulative reward = \", np.mean(cumulativeEpRewAll))    \n",
    "print(\"Std cumulative reward = \", np.std(cumulativeEpRewAll))       \n",
    "    \n",
    "env.close()"
   ]
  },
  {
   "cell_type": "code",
   "execution_count": null,
   "metadata": {},
   "outputs": [],
   "source": [
    "# TF tests\n",
    "aaa = np.zeros((1,3,3))\n",
    "bbb = np.ones((1,3,3))\n",
    "aaa = tf.cast(aaa, dtype=\"float32\")\n",
    "bbb = tf.cast(bbb, dtype=\"float32\")\n",
    "\n",
    "print(aaa.eval(session=sess))\n",
    "\n",
    "#ccc = tf.concat( [aaa,bbb], 1)\n",
    "ccc = tf.layers.flatten(aaa)\n",
    "print(ccc)\n",
    "print(ccc.eval(session=sess))\n",
    "input(\"AAA\")"
   ]
  },
  {
   "cell_type": "code",
   "execution_count": null,
   "metadata": {},
   "outputs": [],
   "source": []
  },
  {
   "cell_type": "code",
   "execution_count": null,
   "metadata": {},
   "outputs": [],
   "source": []
  }
 ],
 "metadata": {
  "kernelspec": {
   "display_name": "Python 3",
   "language": "python",
   "name": "python3"
  },
  "language_info": {
   "codemirror_mode": {
    "name": "ipython",
    "version": 3
   },
   "file_extension": ".py",
   "mimetype": "text/x-python",
   "name": "python",
   "nbconvert_exporter": "python",
   "pygments_lexer": "ipython3",
   "version": "3.6.9"
  }
 },
 "nbformat": 4,
 "nbformat_minor": 4
}
