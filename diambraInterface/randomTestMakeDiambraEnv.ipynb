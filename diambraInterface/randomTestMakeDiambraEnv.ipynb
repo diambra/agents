{
 "cells": [
  {
   "cell_type": "code",
   "execution_count": null,
   "metadata": {},
   "outputs": [],
   "source": [
    "gameFolder = \"DOA++-MAME\"\n",
    "#gameFolder = \"SFIII-MAME\"\n",
    "#gameFolder = \"UMK3-MAME\"\n",
    "#gameFolder = \"TEKTAG-MAME\""
   ]
  },
  {
   "cell_type": "code",
   "execution_count": null,
   "metadata": {},
   "outputs": [],
   "source": [
    "import sys, os\n",
    "import time\n",
    "timeDepSeed = int((time.time()-int(time.time()-0.5))*1000)\n",
    "\n",
    "sys.path.append(os.path.join(os.path.abspath(''), '../../games',gameFolder))   "
   ]
  },
  {
   "cell_type": "code",
   "execution_count": null,
   "metadata": {},
   "outputs": [],
   "source": [
    "from makeDiambraEnv import *"
   ]
  },
  {
   "cell_type": "code",
   "execution_count": null,
   "metadata": {},
   "outputs": [],
   "source": [
    "diambraKwargs = {}\n",
    "diambraKwargs[\"roms_path\"] = \"../../roms/MAMEToolkit/roms/\"\n",
    "diambraKwargs[\"binary_path\"] = \"../../../customMAME/\"\n",
    "diambraKwargs[\"player\"] = \"P1\"\n",
    "diambraKwargs[\"frame_ratio\"] = 3\n",
    "#diambraKwargs[\"render\"] =True\n",
    "#diambraKwargs[\"throttle\"] = False\n",
    "#diambraKwargs[\"sound\"] = False \n",
    "#diambraKwargs[\"character\"] =\"Random\"\n",
    "diambraKwargs[\"character\"] =\"Kasumi\"\n",
    "\n",
    "numEnv=1\n",
    "\n",
    "wrapperKwargs = {}\n",
    "wrapperKwargs[\"frame_stack\"] = 4\n",
    "wrapperKwargs[\"clip_rewards\"] = False\n",
    "wrapperKwargs[\"normalize_rewards\"] = True\n",
    "wrapperKwargs[\"scale\"] = True\n",
    "wrapperKwargs[\"hw_obs_resize\"] = [84, 84]\n",
    "\n",
    "keyToAdd = None\n",
    "#keyToAdd.append(\"action\")\n",
    "#keyToAdd.append(\"player\")\n",
    "#keyToAdd.append(\"healthP1\")\n",
    "#keyToAdd.append(\"healthP2\")\n",
    "#keyToAdd.append(\"positionP1\")\n",
    "#keyToAdd.append(\"positionP2\")\n",
    "#keyToAdd.append(\"winsP1\")\n",
    "#keyToAdd.append(\"winsP2\")\n",
    "\n",
    "env = make_diambra_env(diambraMame, env_prefix=\"Test\", num_env=numEnv, seed=timeDepSeed,\n",
    "                       diambra_kwargs = diambraKwargs, wrapper_kwargs = wrapperKwargs,\n",
    "                       key_to_add = keyToAdd, no_vec = True)\n",
    "\n",
    "# OR \n",
    "#env = make_diambra_env(diambraMame, num_env=numEnv, seed=0, diambra_kwargs = diambraKwargs)\n",
    "# Frame-stacking with 4 frames\n",
    "#env = VecFrameStack(env, n_stack=4)"
   ]
  },
  {
   "cell_type": "code",
   "execution_count": null,
   "metadata": {},
   "outputs": [],
   "source": [
    "observation = env.reset()\n",
    "\n",
    "cumulativeEpRew = 0.0\n",
    "cumulativeEpRewAll = []\n",
    "cumulativeTotRew = 0.0\n",
    "\n",
    "maxNumEp = 100\n",
    "currNumEp = 0\n",
    "\n",
    "while currNumEp < maxNumEp:\n",
    "\n",
    "    action = int(input(\"Action to take\"))\n",
    "    #action = env.action_space.sample()\n",
    "    print(\"Action:\", action)\n",
    "    observation, reward, done, info = env.step(action)\n",
    "\n",
    "    #print(\"Frames shape:\", observation.shape)\n",
    "    print(\"Reward:\", reward)\n",
    "    #print(\"Fighting = \", info[\"fighting\"])\n",
    "    #print(\"Rewards = \", info[\"rewards\"])\n",
    "    #print(\"HealthP1 = \", info[\"healthP1\"])\n",
    "    #print(\"HealthP2 = \", info[\"healthP2\"])\n",
    "    #print(\"HealthP1_1 = \", info[\"healthP1_1\"])\n",
    "    #print(\"HealthP1_2 = \", info[\"healthP1_2\"])\n",
    "    #print(\"HealthP2_1 = \", info[\"healthP2_1\"])\n",
    "    #print(\"HealthP2_2 = \", info[\"healthP2_2\"])\n",
    "    #print(\"PositionP1 = \", info[\"positionP1\"])\n",
    "    #print(\"PositionP2 = \", info[\"positionP2\"])\n",
    "    #print(\"WinP1 = \", info[\"winsP1\"])\n",
    "    #print(\"WinP2 = \", info[\"winsP2\"])\n",
    "\n",
    "    \n",
    "    cumulativeEpRew += reward\n",
    "    \n",
    "    if np.any(done):\n",
    "        currNumEp += 1\n",
    "        print(\"Ep. # = \", currNumEp)\n",
    "        print(\"Ep. Cumulative Rew # = \", cumulativeEpRew)\n",
    "        sys.stdout.flush()\n",
    "        cumulativeEpRewAll.append(cumulativeEpRew)\n",
    "        cumulativeTotRew += cumulativeEpRew\n",
    "        cumulativeEpRew = 0.0\n",
    "\n",
    "        observation = env.reset()\n",
    "\n",
    "print(\"Mean cumulative reward = \", cumulativeTotRew/maxNumEp)    \n",
    "print(\"Mean cumulative reward = \", np.mean(cumulativeEpRewAll))    \n",
    "print(\"Std cumulative reward = \", np.std(cumulativeEpRewAll))       \n",
    "    \n",
    "env.close()"
   ]
  },
  {
   "cell_type": "code",
   "execution_count": null,
   "metadata": {},
   "outputs": [],
   "source": []
  }
 ],
 "metadata": {
  "kernelspec": {
   "display_name": "Python 3",
   "language": "python",
   "name": "python3"
  },
  "language_info": {
   "codemirror_mode": {
    "name": "ipython",
    "version": 3
   },
   "file_extension": ".py",
   "mimetype": "text/x-python",
   "name": "python",
   "nbconvert_exporter": "python",
   "pygments_lexer": "ipython3",
   "version": "3.6.9"
  }
 },
 "nbformat": 4,
 "nbformat_minor": 4
}
