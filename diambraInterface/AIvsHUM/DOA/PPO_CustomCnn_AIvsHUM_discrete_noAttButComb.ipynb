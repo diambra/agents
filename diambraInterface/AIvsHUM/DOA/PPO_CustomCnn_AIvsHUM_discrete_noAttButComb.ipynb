{
 "cells": [
  {
   "cell_type": "code",
   "execution_count": null,
   "metadata": {},
   "outputs": [],
   "source": [
    "gameId = \"doapp\""
   ]
  },
  {
   "cell_type": "code",
   "execution_count": null,
   "metadata": {},
   "outputs": [],
   "source": [
    "import sys, os\n",
    "import time\n",
    "timeDepSeed = int((time.time()-int(time.time()-0.5))*1000)\n",
    "\n",
    "sys.path.append(os.path.join(os.path.abspath(''), '../../'))   \n",
    "sys.path.append(os.path.join(os.path.abspath(''), '../../../../games',gameFolder))   \n",
    "sys.path.append(os.path.join(os.path.abspath(''), '../../pythonGamePadInterface'))\n",
    "\n",
    "tensorBoardFolder = \"./{}_ppo2_TB_CustCnn_bL_d_noComb/\".format(gameId)\n",
    "modelFolder = \"./{}_ppo2_Model_CustCnn_bL_d_noComb/\".format(gameId)\n",
    "\n",
    "os.makedirs(modelFolder, exist_ok=True)"
   ]
  },
  {
   "cell_type": "code",
   "execution_count": null,
   "metadata": {},
   "outputs": [],
   "source": [
    "from diambraMameGym import diambraMame\n",
    "from diambraGamepad import diambraGamepad\n",
    "from makeDiambraEnvSB import make_diambra_env\n",
    "\n",
    "import tensorflow as tf\n",
    "\n",
    "from customPolicies.utils import linear_schedule, AutoSave\n",
    "from customPolicies.customCnnPolicy import *\n",
    "\n",
    "from stable_baselines import PPO2"
   ]
  },
  {
   "cell_type": "code",
   "execution_count": null,
   "metadata": {},
   "outputs": [],
   "source": [
    "# GamePad policy initialization \n",
    "gamePad_policy = gamepadPolicy(diambraGamepad)"
   ]
  },
  {
   "cell_type": "code",
   "execution_count": null,
   "metadata": {},
   "outputs": [],
   "source": [
    "# DIAMBRA kwargs\n",
    "diambraKwargs = {}\n",
    "diambraKwargs[\"roms_path\"] = \"../../../roms/mame/\"\n",
    "diambraKwargs[\"binary_path\"] = \"../../../../customMAME/\"\n",
    "diambraKwargs[\"frame_ratio\"] = 6\n",
    "diambraKwargs[\"render\"] = False\n",
    "\n",
    "diambraKwargs[\"player\"] = \"P1P2\"\n",
    "diambraKwargs[\"characters\"] =[\"Kasumi\", \"Random\"]\n",
    "diambraKwargs[\"charOutfits\"] =[2, 2]\n",
    "\n",
    "# DIAMBRA gym kwargs\n",
    "diambraGymKwargs = {}\n",
    "diambraGymKwargs[\"P2brain\"] = gamePad_policy\n",
    "diambraGymKwargs[\"continue_game\"] = 0.0\n",
    "diambraGymKwargs[\"show_final\"] = False                                   \n",
    "diambraGymKwargs[\"actionSpace\"] = [\"discrete\", \"multiDiscrete\"]\n",
    "diambraGymKwargs[\"attackButCombinations\"] = [False, True]\n",
    "\n",
    "wrapperKwargs = {}\n",
    "wrapperKwargs[\"hwc_obs_resize\"] = [256, 256, 1]\n",
    "wrapperKwargs[\"normalize_rewards\"] = True\n",
    "wrapperKwargs[\"clip_rewards\"] = False\n",
    "wrapperKwargs[\"frame_stack\"] = 6\n",
    "wrapperKwargs[\"dilation\"] = 1\n",
    "wrapperKwargs[\"scale\"] = True\n",
    "wrapperKwargs[\"scale_mod\"] = 0\n",
    "\n",
    "#keyToAdd = None\n",
    "keyToAdd = []\n",
    "keyToAdd.append(\"actionsBuf\")   # env.actBufLen*(env.n_actions[0]+env.n_actions[1])\n",
    "keyToAdd.append(\"ownHealth\")    # 1\n",
    "keyToAdd.append(\"oppHealth\")    # 1\n",
    "keyToAdd.append(\"ownPosition\")  # 1\n",
    "keyToAdd.append(\"ownPosition\")  # 1\n",
    "keyToAdd.append(\"stage\")        # 1\n",
    "keyToAdd.append(\"character\")    # len(env.charNames)\n",
    "\n",
    "numEnv=1\n",
    "\n",
    "envId = gameId + \"_Train\"\n",
    "env = make_diambra_env(diambraMame, env_prefix=envId, num_env=numEnv, seed=timeDepSeed, \n",
    "                       diambra_kwargs=diambraKwargs, diambra_gym_kwargs=diambraGymKwargs\n",
    "                       wrapper_kwargs=wrapperKwargs, key_to_add=keyToAdd)"
   ]
  },
  {
   "cell_type": "code",
   "execution_count": null,
   "metadata": {},
   "outputs": [],
   "source": [
    "print(\"Obs_space = \", env.observation_space)\n",
    "print(\"Obs_space type = \", env.observation_space.dtype)\n",
    "print(\"Obs_space high = \", env.observation_space.high)\n",
    "print(\"Obs_space low = \", env.observation_space.low)"
   ]
  },
  {
   "cell_type": "code",
   "execution_count": null,
   "metadata": {},
   "outputs": [],
   "source": [
    "print(\"Act_space = \", env.action_space)\n",
    "print(\"Act_space type = \", env.action_space.dtype)\n",
    "print(\"Act_space n = \", env.action_space.nvec)"
   ]
  },
  {
   "cell_type": "code",
   "execution_count": null,
   "metadata": {},
   "outputs": [],
   "source": [
    "# Policy param\n",
    "envRef = env.envs[0]\n",
    "\n",
    "policyKwargs={}\n",
    "policyKwargs[\"n_add_info\"] = envRef.actBufLen*(envRef.n_actions[0]+envRef.n_actions[1]) + len(keyToAdd)-2 # No Char Info\n",
    "policyKwargs[\"layers\"] = [64, 64]"
   ]
  },
  {
   "cell_type": "code",
   "execution_count": null,
   "metadata": {},
   "outputs": [],
   "source": [
    "# PPO param\n",
    "setGamma = 0.94\n",
    "setLearningRate = linear_schedule(2.5e-4, 2.5e-6)\n",
    "setClipRange = linear_schedule(0.2, 0.025)\n",
    "setClipRangeVf = setClipRange\n",
    "\n",
    "# Initialize the model, 1 env\n",
    "#model = PPO2(CustCnnPolicy, env, verbose=1, \n",
    "#             gamma = setGamma, nminibatches=4, noptepochs=4, n_steps=128,\n",
    "#             learning_rate=setLearningRate, cliprange=setClipRange, cliprange_vf=setClipRangeVf, \n",
    "#             tensorboard_log=tensorBoardFolder, policy_kwargs=policyKwargs)\n",
    "\n",
    "#OR\n",
    "\n",
    "# Load the trained agent\n",
    "model = PPO2.load(os.path.join(modelFolder, \"13_5M\"), env=env, tensorboard_log=tensorBoardFolder, \n",
    "                  policy_kwargs=policyKwargs, gamma = setGamma, learning_rate=setLearningRate, \n",
    "                  cliprange=setClipRange, cliprange_vf=setClipRangeVf)"
   ]
  },
  {
   "cell_type": "code",
   "execution_count": null,
   "metadata": {},
   "outputs": [],
   "source": [
    "print(\"Model discount factor = \", model.gamma)"
   ]
  },
  {
   "cell_type": "code",
   "execution_count": null,
   "metadata": {},
   "outputs": [],
   "source": [
    "# Create the callback: autosave every USER DEF steps\n",
    "autoSaveCallback = AutoSave(check_freq=1000000, numEnv=numEnv, save_path=os.path.join(modelFolder, \"13_5M_\"))\n",
    "\n",
    "# Train the agent\n",
    "time_steps = 30000000\n",
    "model.learn(total_timesteps=time_steps, callback=autoSaveCallback)"
   ]
  },
  {
   "cell_type": "code",
   "execution_count": null,
   "metadata": {},
   "outputs": [],
   "source": [
    "# Save the agent\n",
    "model.save(os.path.join(modelFolder, \"33_5M\"))"
   ]
  },
  {
   "cell_type": "markdown",
   "metadata": {},
   "source": [
    "## Evaluation"
   ]
  },
  {
   "cell_type": "code",
   "execution_count": null,
   "metadata": {},
   "outputs": [],
   "source": [
    "# Initialize a new evaluation environment\n",
    "diambraKwargs[\"render\"] = True\n",
    "\n",
    "env = make_diambra_env(diambraMame, env_prefix=\"Eval\", num_env=1, seed=timeDepSeed, \n",
    "                       diambra_kwargs=diambraKwargs, diambra_gym_kwargs=diambraGymKwargs, \n",
    "                       wrapper_kwargs=wrapperKwargs, key_to_add=keyToAdd)"
   ]
  },
  {
   "cell_type": "code",
   "execution_count": null,
   "metadata": {},
   "outputs": [],
   "source": [
    "observation = env.reset()\n",
    "\n",
    "cumulativeEpRew = 0.0\n",
    "cumulativeEpRewAll = []\n",
    "cumulativeTotRew = 0.0\n",
    "\n",
    "maxNumEp = 100\n",
    "currNumEp = 0\n",
    "\n",
    "while currNumEp < maxNumEp:\n",
    "\n",
    "    action = model.predict(observation, deterministic=False)\n",
    "    #action_prob = model.action_probability(observation, states)\n",
    "    #print(\"Action probabilities = \", action_prob)\n",
    "    #print(\"Max action = \", np.argmax(action_prob))\n",
    "    #print(\"Action = \", action)\n",
    "    \n",
    "    observation, reward, done, info = env.step(action[0])\n",
    "    \n",
    "    cumulativeEpRew += reward\n",
    "    \n",
    "    if np.any(done):\n",
    "        currNumEp += 1\n",
    "        print(\"Ep. # = \", currNumEp)\n",
    "        print(\"Ep. Cumulative Rew # = \", cumulativeEpRew)\n",
    "        cumulativeEpRewAll.append(cumulativeEpRew)\n",
    "        cumulativeTotRew += cumulativeEpRew\n",
    "        cumulativeEpRew = 0.0\n",
    "\n",
    "print(\"Mean cumulative reward = \", cumulativeTotRew/maxNumEp)    \n",
    "print(\"Mean cumulative reward = \", np.mean(cumulativeEpRewAll))    \n",
    "print(\"Std cumulative reward = \", np.std(cumulativeEpRewAll))   \n",
    "    \n",
    "env.close()"
   ]
  }
 ],
 "metadata": {
  "kernelspec": {
   "display_name": "Python 3",
   "language": "python",
   "name": "python3"
  },
  "language_info": {
   "codemirror_mode": {
    "name": "ipython",
    "version": 3
   },
   "file_extension": ".py",
   "mimetype": "text/x-python",
   "name": "python",
   "nbconvert_exporter": "python",
   "pygments_lexer": "ipython3",
   "version": "3.6.12"
  }
 },
 "nbformat": 4,
 "nbformat_minor": 4
}
