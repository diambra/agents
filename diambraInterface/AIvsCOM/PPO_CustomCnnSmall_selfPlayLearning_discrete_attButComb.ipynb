{
 "cells": [
  {
   "cell_type": "code",
   "execution_count": null,
   "metadata": {},
   "outputs": [],
   "source": [
    "gameId = \"doapp\"\n",
    "#gameId = \"sfiii3n\"\n",
    "#gameId = \"tektagt\""
   ]
  },
  {
   "cell_type": "code",
   "execution_count": null,
   "metadata": {},
   "outputs": [],
   "source": [
    "import sys, os\n",
    "import time\n",
    "timeDepSeed = int((time.time()-int(time.time()-0.5))*1000)\n",
    "\n",
    "sys.path.append(os.path.join(os.path.abspath(''), '../'))   \n",
    "sys.path.append(os.path.join(os.path.abspath(''), '../../../games'))   \n",
    "sys.path.append(os.path.join(os.path.abspath(''), '../../../utils')) \n",
    "\n",
    "tensorBoardFolder = \"./{}_ppo2_TB_CustCnnSmall_spL_d_comb/\".format(gameId)\n",
    "modelFolder = \"./{}_ppo2_Model_CustCnnSmall_spL_d_comb/\".format(gameId)\n",
    "\n",
    "os.makedirs(modelFolder, exist_ok=True)"
   ]
  },
  {
   "cell_type": "code",
   "execution_count": null,
   "metadata": {},
   "outputs": [],
   "source": [
    "from makeDiambraEnv import *\n",
    "\n",
    "import tensorflow as tf\n",
    "\n",
    "from customPolicies.utils import linear_schedule, AutoSave, UpdateRLPolicyWeights\n",
    "from customPolicies.customCnnPolicy import *\n",
    "from policies import noActionPolicy, randomPolicy, RLPolicy\n",
    "\n",
    "from stable_baselines import PPO2"
   ]
  },
  {
   "cell_type": "code",
   "execution_count": null,
   "metadata": {},
   "outputs": [],
   "source": [
    "model = PPO2.load(modelFolder + \"6_5M\")    \n",
    "\n",
    "deterministicFlag = False                                                    \n",
    "rl_policy = RLPolicy(model, deterministicFlag, [9, 8], name=\"PPO-6_5M\", actionSpace=\"discrete\")    "
   ]
  },
  {
   "cell_type": "code",
   "execution_count": null,
   "metadata": {},
   "outputs": [],
   "source": [
    "# Diambra environment kwargs\n",
    "diambraKwargs = {}\n",
    "diambraKwargs[\"roms_path\"]   = \"../../../roms/mame/\"\n",
    "diambraKwargs[\"binary_path\"] = \"../../../customMAME/\"\n",
    "diambraKwargs[\"frame_ratio\"] = 4\n",
    "diambraKwargs[\"render\"]      = False\n",
    "\n",
    "diambraKwargs[\"player\"] = \"P1P2\" # 2P game\n",
    "\n",
    "# Game dependent kwawrgs\n",
    "if gameId == \"doapp\":\n",
    "    diambraKwargs[\"difficulty\"]  = 3 \n",
    "    diambraKwargs[\"characters\"] =[\"Random\", \"Random\"]\n",
    "    diambraKwargs[\"charOutfits\"] =[2, 2]\n",
    "elif gameId == \"sfiii3n\":\n",
    "    diambraKwargs[\"difficulty\"]  = 6\n",
    "    diambraKwargs[\"characters\"] =[\"Random\", \"Random\"]\n",
    "    diambraKwargs[\"charOutfits\"] =[2, 2]\n",
    "elif gameId == \"tektagt\":\n",
    "    diambraKwargs[\"difficulty\"]  = 6\n",
    "    diambraKwargs[\"characters\"] =[[\"Random\", \"Random\"], [\"Random\", \"Random\"]]\n",
    "    diambraKwargs[\"charOutfits\"] =[2, 2]\n",
    "else:\n",
    "    raise Exception(\"Game not implemented: {}\".format(gameId))\n",
    "\n",
    "# DIAMBRA gym kwargs\n",
    "diambraGymKwargs = {}\n",
    "diambraGymKwargs[\"P2brain\"] = rl_policy\n",
    "diambraGymKwargs[\"continue_game\"] = 0.0 # If < 0.0 means number of continues\n",
    "diambraGymKwargs[\"show_final\"] = False\n",
    "diambraGymKwargs[\"gamePads\"] = [None, None]                                     \n",
    "diambraGymKwargs[\"actionSpace\"] = [\"discrete\", \"discrete\"]\n",
    "diambraGymKwargs[\"attackButCombinations\"] = [True, True]\n",
    "\n",
    "# Gym Wrappers kwargs\n",
    "wrapperKwargs = {}\n",
    "wrapperKwargs[\"hwc_obs_resize\"] = [128, 128, 1]\n",
    "wrapperKwargs[\"normalize_rewards\"] = True\n",
    "wrapperKwargs[\"clip_rewards\"] = False\n",
    "wrapperKwargs[\"frame_stack\"] = 4\n",
    "wrapperKwargs[\"dilation\"] = 1\n",
    "wrapperKwargs[\"scale\"] = True\n",
    "wrapperKwargs[\"scale_mod\"] = 0\n",
    "\n",
    "# Additional observations\n",
    "keyToAdd = []\n",
    "keyToAdd.append(\"actionsBuf\") # env.actBufLen*(env.n_actions[0]+env.n_actions[1])\n",
    "\n",
    "if gameId != \"tektagt\":                                                         \n",
    "    keyToAdd.append(\"ownHealth\")   # 1                                            \n",
    "    keyToAdd.append(\"oppHealth\")   # 1                                                \n",
    "else:                                                                           \n",
    "    keyToAdd.append(\"ownHealth_1\") # 1                                             \n",
    "    keyToAdd.append(\"ownHealth_2\") # 1                                             \n",
    "    keyToAdd.append(\"oppHealth_1\") # 1                                              \n",
    "    keyToAdd.append(\"oppHealth_2\") # 1  \n",
    "    \n",
    "keyToAdd.append(\"ownPosition\")     # 1\n",
    "keyToAdd.append(\"oppPosition\")     # 1\n",
    "keyToAdd.append(\"character\")       # len(env.charNames)\n",
    "\n",
    "numEnv=8\n",
    "\n",
    "envId = gameId + \"_Train\"\n",
    "env = make_diambra_env(diambraMame, env_prefix=envId, num_env=numEnv, seed=timeDepSeed, \n",
    "                       diambra_kwargs=diambraKwargs, diambra_gym_kwargs=diambraGymKwargs,\n",
    "                       wrapper_kwargs=wrapperKwargs, key_to_add=keyToAdd, use_subprocess=False)"
   ]
  },
  {
   "cell_type": "code",
   "execution_count": null,
   "metadata": {},
   "outputs": [],
   "source": [
    "print(\"Obs_space = \", env.observation_space)\n",
    "print(\"Obs_space type = \", env.observation_space.dtype)\n",
    "print(\"Obs_space high = \", env.observation_space.high)\n",
    "print(\"Obs_space low = \", env.observation_space.low)"
   ]
  },
  {
   "cell_type": "code",
   "execution_count": null,
   "metadata": {},
   "outputs": [],
   "source": [
    "print(\"Act_space = \", env.action_space)\n",
    "print(\"Act_space type = \", env.action_space.dtype)\n",
    "if diambraGymKwargs[\"actionSpace\"][0] == \"multiDiscrete\":\n",
    "    print(\"Act_space n = \", env.action_space.nvec)\n",
    "else:\n",
    "    print(\"Act_space n = \", env.action_space.n)"
   ]
  },
  {
   "cell_type": "code",
   "execution_count": null,
   "metadata": {},
   "outputs": [],
   "source": [
    "# Policy param\n",
    "n_actions = env.get_attr(\"n_actions\")[0][0]\n",
    "actBufLen = env.get_attr(\"actBufLen\")[0]\n",
    "nChar = env.get_attr(\"numberOfCharacters\")[0]\n",
    "\n",
    "policyKwargs={}\n",
    "policyKwargs[\"n_add_info\"] = actBufLen*(n_actions[0]+n_actions[1]) + len(keyToAdd)-2 + nChar\n",
    "policyKwargs[\"layers\"] = [64, 64]\n",
    "\n",
    "policyKwargs[\"cnn_extractor\"] = local_nature_cnn_small\n",
    "\n",
    "print(\"n_actions =\", n_actions)\n",
    "print(\"nChar =\", nChar)\n",
    "print(\"n_add_info =\", policyKwargs[\"n_add_info\"])"
   ]
  },
  {
   "cell_type": "code",
   "execution_count": null,
   "metadata": {},
   "outputs": [],
   "source": [
    "# PPO param\n",
    "setGamma = 0.94\n",
    "setLearningRate = linear_schedule(2.5e-4, 2.5e-6)\n",
    "#setLearningRate = linear_schedule(5.0e-5, 2.5e-6)\n",
    "setClipRange = linear_schedule(0.15, 0.025)\n",
    "#setClipRange = linear_schedule(0.05, 0.025)\n",
    "setClipRangeVf = setClipRange\n",
    "\n",
    "# Initialize the model\n",
    "#model = PPO2(CustCnnPolicy, env, verbose=1, \n",
    "#             gamma = setGamma, nminibatches=4, noptepochs=4, n_steps=128,\n",
    "#             learning_rate=setLearningRate, cliprange=setClipRange, cliprange_vf=setClipRangeVf, \n",
    "#             tensorboard_log=tensorBoardFolder, policy_kwargs=policyKwargs)\n",
    "\n",
    "#OR\n",
    "\n",
    "# Load the trained agent\n",
    "model = PPO2.load(modelFolder+\"6_5M\", env=env, tensorboard_log=tensorBoardFolder, \n",
    "                  policy_kwargs=policyKwargs, gamma = setGamma, learning_rate=setLearningRate, \n",
    "                  cliprange=setClipRange, cliprange_vf=setClipRangeVf)"
   ]
  },
  {
   "cell_type": "code",
   "execution_count": null,
   "metadata": {},
   "outputs": [],
   "source": [
    "print(\"Model discount factor = \", model.gamma)"
   ]
  },
  {
   "cell_type": "code",
   "execution_count": null,
   "metadata": {},
   "outputs": [],
   "source": [
    "# Create the callback: autosave every USER DEF steps\n",
    "autoSaveCallback = AutoSave(check_freq=1000000, numEnv=numEnv, save_path=modelFolder+\"6_5M_\")\n",
    "\n",
    "prevAgentsSamplingDict = {\"probability\": 0.3,\n",
    "                          \"list\":[modelFolder + \"6_5M\", modelFolder + \"13M\"]}\n",
    "upRLPolWCallback = UpdateRLPolicyWeights(check_freq=10000, numEnv=numEnv, save_path=modelFolder,\n",
    "                                         prevAgentsSampling=prevAgentsSamplingDict)\n",
    "\n",
    "# Train the agent\n",
    "time_steps = 30000000\n",
    "model.learn(total_timesteps=time_steps, callback=[autoSaveCallback, upRLPolWCallback])"
   ]
  },
  {
   "cell_type": "code",
   "execution_count": null,
   "metadata": {},
   "outputs": [],
   "source": [
    "# Save the agent\n",
    "model.save(modelFolder+\"13M\")"
   ]
  },
  {
   "cell_type": "code",
   "execution_count": null,
   "metadata": {},
   "outputs": [],
   "source": []
  }
 ],
 "metadata": {
  "kernelspec": {
   "display_name": "Python 3",
   "language": "python",
   "name": "python3"
  },
  "language_info": {
   "codemirror_mode": {
    "name": "ipython",
    "version": 3
   },
   "file_extension": ".py",
   "mimetype": "text/x-python",
   "name": "python",
   "nbconvert_exporter": "python",
   "pygments_lexer": "ipython3",
   "version": "3.6.12"
  }
 },
 "nbformat": 4,
 "nbformat_minor": 4
}
